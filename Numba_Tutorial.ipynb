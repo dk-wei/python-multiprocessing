{
  "nbformat": 4,
  "nbformat_minor": 0,
  "metadata": {
    "colab": {
      "name": "Numba Tutorial.ipynb",
      "provenance": [],
      "authorship_tag": "ABX9TyM6TjsSjCj8uNYUMO1eNQR3",
      "include_colab_link": true
    },
    "kernelspec": {
      "name": "python3",
      "display_name": "Python 3"
    },
    "language_info": {
      "name": "python"
    }
  },
  "cells": [
    {
      "cell_type": "markdown",
      "metadata": {
        "id": "view-in-github",
        "colab_type": "text"
      },
      "source": [
        "<a href=\"https://colab.research.google.com/github/dk-wei/python-tricks/blob/main/Numba_Tutorial.ipynb\" target=\"_parent\"><img src=\"https://colab.research.google.com/assets/colab-badge.svg\" alt=\"Open In Colab\"/></a>"
      ]
    },
    {
      "cell_type": "markdown",
      "metadata": {
        "id": "I3C8bpOEqTia"
      },
      "source": [
        "参考链接：https://www.youtube.com/watch?v=x58W9A2lnQc\n",
        "\n",
        "To better ultilize `numba`, we should always:\n",
        "1. use `njit` decorator\n",
        "2. prelocate input as much as we can"
      ]
    },
    {
      "cell_type": "code",
      "metadata": {
        "id": "pH45USIxdaz1"
      },
      "source": [
        "from numba import jit, njit\n",
        "import random"
      ],
      "execution_count": 113,
      "outputs": []
    },
    {
      "cell_type": "markdown",
      "metadata": {
        "id": "jYCF7wdtpQyN"
      },
      "source": [
        "# regular python baseline"
      ]
    },
    {
      "cell_type": "code",
      "metadata": {
        "id": "9ja-zeiehDw7"
      },
      "source": [
        "# @jit(nopython=True)\n",
        "def function(nsamples):\n",
        "  res = 0\n",
        "  for i in range(nsamples):\n",
        "    x = random.random()\n",
        "    y = random.random()\n",
        "    if (x**2 + y**2) < 1.0:\n",
        "      res +=1\n",
        "  return 4*res/nsamples"
      ],
      "execution_count": 125,
      "outputs": []
    },
    {
      "cell_type": "code",
      "metadata": {
        "colab": {
          "base_uri": "https://localhost:8080/"
        },
        "id": "pfQjn6mwl6ef",
        "outputId": "34169658-3778-429c-92b5-aac8e4e253f5"
      },
      "source": [
        "%%time\n",
        "function(100000000)"
      ],
      "execution_count": 126,
      "outputs": [
        {
          "output_type": "stream",
          "name": "stdout",
          "text": [
            "CPU times: user 44.1 s, sys: 72.5 ms, total: 44.2 s\n",
            "Wall time: 44.2 s\n"
          ]
        },
        {
          "output_type": "execute_result",
          "data": {
            "text/plain": [
              "3.14156856"
            ]
          },
          "metadata": {},
          "execution_count": 126
        }
      ]
    },
    {
      "cell_type": "markdown",
      "metadata": {
        "id": "4mOSUCS2pUWb"
      },
      "source": [
        "# Numba `njit`"
      ]
    },
    {
      "cell_type": "code",
      "metadata": {
        "id": "VcKsd1tAdr53"
      },
      "source": [
        "#@jit(nopython=True)\n",
        "@njit\n",
        "def function(nsamples):\n",
        "  res = 0\n",
        "  for i in range(nsamples):\n",
        "    x = random.random()\n",
        "    y = random.random()\n",
        "    if (x**2 + y**2) < 1.0:\n",
        "      res +=1\n",
        "  return 4*res/nsamples"
      ],
      "execution_count": 127,
      "outputs": []
    },
    {
      "cell_type": "code",
      "metadata": {
        "colab": {
          "base_uri": "https://localhost:8080/"
        },
        "id": "YrNP0BMKg8rr",
        "outputId": "eff5e8a3-a539-4227-ba12-b2b1425d0a04"
      },
      "source": [
        "%%time\n",
        "function(100000000)"
      ],
      "execution_count": 129,
      "outputs": [
        {
          "output_type": "stream",
          "name": "stdout",
          "text": [
            "CPU times: user 1.25 s, sys: 5.02 ms, total: 1.26 s\n",
            "Wall time: 1.26 s\n"
          ]
        },
        {
          "output_type": "execute_result",
          "data": {
            "text/plain": [
              "3.1417056"
            ]
          },
          "metadata": {},
          "execution_count": 129
        }
      ]
    },
    {
      "cell_type": "markdown",
      "metadata": {
        "id": "x-eReqKzpYoH"
      },
      "source": [
        "# Numba prelocation"
      ]
    },
    {
      "cell_type": "code",
      "metadata": {
        "id": "er5KA9zkmsbw"
      },
      "source": [
        "#@jit(nopython=True)\n",
        "@njit(nogil = True)\n",
        "def function(nsamples):\n",
        "  res = 0\n",
        "  input = np.array(list(range(5)))   # simply let numba know the size of input to do prelocating\n",
        "  for i in input:\n",
        "    x = random.random()\n",
        "    y = random.random()\n",
        "    if (x**2 + y**2) < 1.0:\n",
        "      res +=1\n",
        "  return 4*res/nsamples"
      ],
      "execution_count": 155,
      "outputs": []
    },
    {
      "cell_type": "code",
      "metadata": {
        "colab": {
          "base_uri": "https://localhost:8080/"
        },
        "id": "4J6JubVhmsPJ",
        "outputId": "441fc6b0-dbca-486d-8019-6ef52bfb0029"
      },
      "source": [
        "%%time\n",
        "function(100000000)"
      ],
      "execution_count": 157,
      "outputs": [
        {
          "output_type": "stream",
          "name": "stdout",
          "text": [
            "CPU times: user 983 µs, sys: 2 µs, total: 985 µs\n",
            "Wall time: 1.08 ms\n"
          ]
        },
        {
          "output_type": "execute_result",
          "data": {
            "text/plain": [
              "1.2e-07"
            ]
          },
          "metadata": {},
          "execution_count": 157
        }
      ]
    },
    {
      "cell_type": "markdown",
      "metadata": {
        "id": "jrECmG6hqOL8"
      },
      "source": [
        "不支持哪些 features?\n",
        "说了那么多，哪些能用，哪些不能用？当前版本（本文撰写时为 0.45）的 Numba 不支持以下 Python 功能：\n",
        "\n",
        "- Exception handling (try .. except, try .. finally)\n",
        "- Context management (the with statement)\n",
        "- Dict/set/generator comprehensions\n",
        "- Generator delegation (yield from)\n",
        "\n",
        "此外，还有一些限制，例如 list/tuple 的元素必须同类（静态）等。对于 NumPy，其支持的 feature 见文末的参考链接。"
      ]
    },
    {
      "cell_type": "code",
      "metadata": {
        "id": "tjCFCsEPnT_G"
      },
      "source": [
        ""
      ],
      "execution_count": null,
      "outputs": []
    }
  ]
}