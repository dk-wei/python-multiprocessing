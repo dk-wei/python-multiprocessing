{
  "nbformat": 4,
  "nbformat_minor": 0,
  "metadata": {
    "colab": {
      "name": "Python Multiprocessing - Ray.ipynb",
      "provenance": [],
      "authorship_tag": "ABX9TyOyfmKKUmAFKMIiz4brLtc0",
      "include_colab_link": true
    },
    "kernelspec": {
      "name": "python3",
      "display_name": "Python 3"
    },
    "language_info": {
      "name": "python"
    }
  },
  "cells": [
    {
      "cell_type": "markdown",
      "metadata": {
        "id": "view-in-github",
        "colab_type": "text"
      },
      "source": [
        "<a href=\"https://colab.research.google.com/github/dk-wei/python-multiprocessing/blob/main/Python_Multiprocessing_Ray.ipynb\" target=\"_parent\"><img src=\"https://colab.research.google.com/assets/colab-badge.svg\" alt=\"Open In Colab\"/></a>"
      ]
    },
    {
      "cell_type": "code",
      "metadata": {
        "id": "Ct9OhmmDYiag"
      },
      "source": [
        "#!pip install ray[default]"
      ],
      "execution_count": 9,
      "outputs": []
    },
    {
      "cell_type": "code",
      "metadata": {
        "id": "EuZHyQ4GYiW6"
      },
      "source": [
        "import multiprocessing as mp\n",
        "from tqdm.notebook import tqdm\n",
        "import ray\n",
        "import time"
      ],
      "execution_count": 10,
      "outputs": []
    },
    {
      "cell_type": "markdown",
      "metadata": {
        "id": "vjbALw9vqHOq"
      },
      "source": [
        "# Parallelism with Tasks\n",
        "\n",
        "## Independent Task\n",
        "\n",
        "To turn a Python function `f` into a “remote function” (a function that can be executed remotely and asynchronously), we declare the function with the `@ray.remote` decorator. Then function invocations via `f.remote()` will immediately return futures (a future is a reference to the eventual output), and the actual function execution will take place in the background (we refer to this execution as a **task**).\n",
        "\n",
        "先将list进行chuck，再进行parallel computing"
      ]
    },
    {
      "cell_type": "code",
      "metadata": {
        "colab": {
          "base_uri": "https://localhost:8080/"
        },
        "id": "RjMWpHUzpQIN",
        "outputId": "8cdefb5f-e0a7-4aa4-ce77-900c326f4037"
      },
      "source": [
        "org_list = [3,4,5,6,5,4,3,2,1,3,4,4,3,2,4,6,2,1,32,4,55,3,2,1,4,6,78,8,5,6,0,9,8,6,3,5,6,7,7,8,8,4,2]\n",
        "\n",
        "def split(a, n):\n",
        "  '''\n",
        "  a: 需要chunk的large list\n",
        "  n: 希望chunk出多少个sublist\n",
        "  '''\n",
        "  k, m = divmod(len(a), n)\n",
        "  split_data = [a[i*k+min(i, m):(i+1)*k+min(i+1, m)] for i in range(n)]\n",
        "\n",
        "  # 没办法，我们得在每个sublist前面做好index的标记，最后拼接result的时候会用到\n",
        "  split_data_order_number = [[i, v] for i, v in enumerate(split_data)]\n",
        "\n",
        "  return split_data_order_number\n",
        "        \n",
        "sub_list = split(org_list,6)\n",
        "\n",
        "sub_list"
      ],
      "execution_count": 40,
      "outputs": [
        {
          "output_type": "execute_result",
          "data": {
            "text/plain": [
              "[[0, [3, 4, 5, 6, 5, 4, 3, 2]],\n",
              " [1, [1, 3, 4, 4, 3, 2, 4]],\n",
              " [2, [6, 2, 1, 32, 4, 55, 3]],\n",
              " [3, [2, 1, 4, 6, 78, 8, 5]],\n",
              " [4, [6, 0, 9, 8, 6, 3, 5]],\n",
              " [5, [6, 7, 7, 8, 8, 4, 2]]]"
            ]
          },
          "metadata": {
            "tags": []
          },
          "execution_count": 40
        }
      ]
    },
    {
      "cell_type": "code",
      "metadata": {
        "colab": {
          "base_uri": "https://localhost:8080/"
        },
        "id": "YDqeRkNIoW20",
        "outputId": "46fab15a-5109-42ff-cc9e-584e61fd780e"
      },
      "source": [
        "%%time\n",
        "\n",
        "# Start Ray.\n",
        "ray.init(num_cpus=8)  # 设置进程数\n",
        "\n",
        "@ray.remote\n",
        "def f(x):\n",
        "  #time.sleep(1)\n",
        "  index = x[0]\n",
        "  value = x[1]\n",
        "  init_value = 0\n",
        "  for item in value:\n",
        "    init_value += item\n",
        "\n",
        "  return index, init_value\n",
        "\n",
        "# Start 4 tasks in parallel.\n",
        "result_ids = []\n",
        "for i in sub_list:\n",
        "    result_ids.append(f.remote(i))"
      ],
      "execution_count": 41,
      "outputs": [
        {
          "output_type": "stream",
          "text": [
            "2021-05-07 02:32:25,801\tINFO services.py:1269 -- View the Ray dashboard at \u001b[1m\u001b[32mhttp://127.0.0.1:8265\u001b[39m\u001b[22m\n"
          ],
          "name": "stderr"
        },
        {
          "output_type": "stream",
          "text": [
            "CPU times: user 59.7 ms, sys: 66.3 ms, total: 126 ms\n",
            "Wall time: 4.43 s\n"
          ],
          "name": "stdout"
        }
      ]
    },
    {
      "cell_type": "code",
      "metadata": {
        "colab": {
          "base_uri": "https://localhost:8080/"
        },
        "id": "5djlhP-4oMTO",
        "outputId": "116fab5e-d7c3-4c72-dcbf-3acf0a0ae7f9"
      },
      "source": [
        "# Wait for the tasks to complete and retrieve the results.\n",
        "# With at least 4 cores, this will take 1 second.\n",
        "# 只有到get这步才会开始运算\n",
        "results = ray.get(result_ids)  # [0, 1, 2, 3]\n",
        "\n",
        "results"
      ],
      "execution_count": 42,
      "outputs": [
        {
          "output_type": "execute_result",
          "data": {
            "text/plain": [
              "[(0, 32), (1, 21), (2, 103), (3, 104), (4, 37), (5, 42)]"
            ]
          },
          "metadata": {
            "tags": []
          },
          "execution_count": 42
        }
      ]
    },
    {
      "cell_type": "code",
      "metadata": {
        "id": "E6innSQkn4ag"
      },
      "source": [
        "ray.shutdown()"
      ],
      "execution_count": 39,
      "outputs": []
    },
    {
      "cell_type": "markdown",
      "metadata": {
        "id": "kSyDzTIpxo-I"
      },
      "source": [
        "从代码上看，远比python原生`Multiprocessing`模块要简单，而且速度会更快。"
      ]
    },
    {
      "cell_type": "markdown",
      "metadata": {
        "id": "r9UjDciTrQKj"
      },
      "source": [
        "## Task Dependencies\n",
        "\n",
        "Tasks can also depend on other tasks. Below, the `multiply_matrices` task uses the outputs of the two `create_matrix` tasks, so it will not begin executing until after the first two tasks have executed. The outputs of the first two tasks will automatically be passed as arguments into the third task and the futures will be replaced with their corresponding values). In this manner, tasks can be composed together with arbitrary DAG dependencies.\n",
        "\n",
        "\n",
        "\n",
        "几个function之间存在依赖关系"
      ]
    },
    {
      "cell_type": "code",
      "metadata": {
        "id": "PJPsGj66YiQl"
      },
      "source": [
        "import numpy as np\n",
        "\n",
        "@ray.remote\n",
        "def create_matrix(size):\n",
        "    return np.random.normal(size=size)\n",
        "\n",
        "@ray.remote\n",
        "def multiply_matrices(x, y):\n",
        "    return np.dot(x, y)\n",
        "\n",
        "x_id = create_matrix.remote([1000, 1000])\n",
        "y_id = create_matrix.remote([1000, 1000])\n",
        "z_id = multiply_matrices.remote(x_id, y_id)\n",
        "\n",
        "# Get the results.\n",
        "z = ray.get(z_id)"
      ],
      "execution_count": 7,
      "outputs": []
    },
    {
      "cell_type": "markdown",
      "metadata": {
        "id": "l8XA-dwmr3PO"
      },
      "source": [
        "## Aggregating Values Efficiently\n",
        "\n",
        "Task dependencies can be used in much more sophisticated ways. For example, suppose we wish to aggregate 8 values together. This example uses integer addition, but in many applications, aggregating large vectors across multiple machines can be a bottleneck. In this case, changing a single line of code can change the aggregation’s running time from linear to logarithmic in the number of values being aggregated.\n",
        "\n",
        "![](https://miro.medium.com/max/1750/1*vHz3troEmr4uLns0V8VmdA.jpeg)\n",
        "\n",
        "As described above, to feed the output of one task as an input into a subsequent task, simply pass the future returned by the first task as an argument into the second task. This task dependency will automatically be taken into account by Ray’s scheduler. The second task will not execute until the first task has finished, and the output of the first task will automatically be shipped to the machine on which the second task is executing."
      ]
    },
    {
      "cell_type": "code",
      "metadata": {
        "id": "8lfUOEdZYiNQ"
      },
      "source": [
        "import time\n",
        "\n",
        "@ray.remote\n",
        "def add(x, y):\n",
        "    time.sleep(1)\n",
        "    return x + y\n",
        "\n",
        "# Aggregate the values slowly. This approach takes O(n) where n is the\n",
        "# number of values being aggregated. In this case, 7 seconds.\n",
        "id1 = add.remote(1, 2)\n",
        "id2 = add.remote(id1, 3)\n",
        "id3 = add.remote(id2, 4)\n",
        "id4 = add.remote(id3, 5)\n",
        "id5 = add.remote(id4, 6)\n",
        "id6 = add.remote(id5, 7)\n",
        "id7 = add.remote(id6, 8)\n",
        "result = ray.get(id7)\n",
        "\n",
        "# Aggregate the values in a tree-structured pattern. This approach\n",
        "# takes O(log(n)). In this case, 3 seconds.\n",
        "id1 = add.remote(1, 2)\n",
        "id2 = add.remote(3, 4)\n",
        "id3 = add.remote(5, 6)\n",
        "id4 = add.remote(7, 8)\n",
        "id5 = add.remote(id1, id2)\n",
        "id6 = add.remote(id3, id4)\n",
        "id7 = add.remote(id5, id6)\n",
        "result = ray.get(id7)"
      ],
      "execution_count": 43,
      "outputs": []
    },
    {
      "cell_type": "markdown",
      "metadata": {
        "id": "_w_TtEh9sT4Q"
      },
      "source": [
        "The above code is very explicit, but note that both approaches can be implemented in a more concise fashion using while loops."
      ]
    },
    {
      "cell_type": "code",
      "metadata": {
        "id": "S8iFuTVRYiKJ"
      },
      "source": [
        "# Slow approach.\n",
        "values = [1, 2, 3, 4, 5, 6, 7, 8]\n",
        "while len(values) > 1:\n",
        "    values = [add.remote(values[0], values[1])] + values[2:]\n",
        "result = ray.get(values[0])\n",
        "\n",
        "\n",
        "# Fast approach.\n",
        "values = [1, 2, 3, 4, 5, 6, 7, 8]\n",
        "while len(values) > 1:\n",
        "    values = values[2:] + [add.remote(values[0], values[1])]\n",
        "result = ray.get(values[0])"
      ],
      "execution_count": 44,
      "outputs": []
    },
    {
      "cell_type": "markdown",
      "metadata": {
        "id": "CvahIDXktaOy"
      },
      "source": [
        "# From Classes to Actors\n",
        "\n",
        "如果想写程序，全部放入`Class`，可以用`Actors`"
      ]
    },
    {
      "cell_type": "code",
      "metadata": {
        "colab": {
          "base_uri": "https://localhost:8080/"
        },
        "id": "MsOECstKYiHC",
        "outputId": "09bd9f4a-35f8-4050-f983-f008628b2cf8"
      },
      "source": [
        "@ray.remote\n",
        "class Counter(object):\n",
        "    def __init__(self):\n",
        "        self.x = 0\n",
        "    \n",
        "    def inc(self):\n",
        "        self.x += 1\n",
        "    \n",
        "    def get_value(self):\n",
        "        return self.x\n",
        "\n",
        "# Create an actor process.\n",
        "c = Counter.remote()\n",
        "\n",
        "# Check the actor's counter value.\n",
        "print(ray.get(c.get_value.remote()))  # 0\n",
        "\n",
        "# Increment the counter twice and check the value again.\n",
        "c.inc.remote()\n",
        "c.inc.remote()\n",
        "print(ray.get(c.get_value.remote()))  # 2"
      ],
      "execution_count": 45,
      "outputs": [
        {
          "output_type": "stream",
          "text": [
            "0\n",
            "2\n"
          ],
          "name": "stdout"
        }
      ]
    },
    {
      "cell_type": "markdown",
      "metadata": {
        "id": "AAK2YOxXuML3"
      },
      "source": [
        "## Actor Handles"
      ]
    },
    {
      "cell_type": "code",
      "metadata": {
        "colab": {
          "base_uri": "https://localhost:8080/"
        },
        "id": "VY_CH6b4YiD9",
        "outputId": "5e95d129-5a10-433f-91e6-7beecb843f8d"
      },
      "source": [
        "import time\n",
        "\n",
        "\n",
        "@ray.remote\n",
        "class MessageActor(object):\n",
        "    def __init__(self):\n",
        "        self.messages = []\n",
        "    \n",
        "    def add_message(self, message):\n",
        "        self.messages.append(message)\n",
        "    \n",
        "    def get_and_clear_messages(self):\n",
        "        messages = self.messages\n",
        "        self.messages = []\n",
        "        return messages\n",
        "\n",
        "\n",
        "# Define a remote function which loops around and pushes\n",
        "# messages to the actor.\n",
        "@ray.remote\n",
        "def worker(message_actor, j):\n",
        "    for i in range(100):\n",
        "        time.sleep(1)\n",
        "        message_actor.add_message.remote(\n",
        "            \"Message {} from worker {}.\".format(i, j))\n",
        "\n",
        "\n",
        "# Create a message actor.\n",
        "message_actor = MessageActor.remote()\n",
        "\n",
        "# Start 3 tasks that push messages to the actor.\n",
        "[worker.remote(message_actor, j) for j in range(3)]\n",
        "\n",
        "# Periodically get the messages and print them.\n",
        "for _ in range(10):\n",
        "    new_messages = ray.get(message_actor.get_and_clear_messages.remote())\n",
        "    print(\"New messages:\", new_messages)\n",
        "    time.sleep(1)\n",
        "\n",
        "# This script prints something like the following:\n",
        "# New messages: []\n",
        "# New messages: ['Message 0 from worker 1.', 'Message 0 from worker 0.']\n",
        "# New messages: ['Message 0 from worker 2.', 'Message 1 from worker 1.', 'Message 1 from worker 0.', 'Message 1 from worker 2.']\n",
        "# New messages: ['Message 2 from worker 1.', 'Message 2 from worker 0.', 'Message 2 from worker 2.']\n",
        "# New messages: ['Message 3 from worker 2.', 'Message 3 from worker 1.', 'Message 3 from worker 0.']\n",
        "# New messages: ['Message 4 from worker 2.', 'Message 4 from worker 0.', 'Message 4 from worker 1.']\n",
        "# New messages: ['Message 5 from worker 2.', 'Message 5 from worker 0.', 'Message 5 from worker 1.']"
      ],
      "execution_count": 47,
      "outputs": [
        {
          "output_type": "stream",
          "text": [
            "2021-05-07 02:48:31,251\tWARNING worker.py:1115 -- WARNING: 6 PYTHON workers have been started on a node of the id: 910eb7418957359ac8f4292c4235dc0ebea06ee9c15bf753528d6d97 and address: 172.28.0.2. This could be a result of using a large number of actors, or it could be a consequence of using nested tasks (see https://github.com/ray-project/ray/issues/3644) for some a discussion of workarounds.\n",
            "2021-05-07 02:48:31,987\tWARNING worker.py:1115 -- WARNING: 9 PYTHON workers have been started on a node of the id: 910eb7418957359ac8f4292c4235dc0ebea06ee9c15bf753528d6d97 and address: 172.28.0.2. This could be a result of using a large number of actors, or it could be a consequence of using nested tasks (see https://github.com/ray-project/ray/issues/3644) for some a discussion of workarounds.\n",
            "2021-05-07 02:48:32,727\tWARNING worker.py:1115 -- WARNING: 11 PYTHON workers have been started on a node of the id: 910eb7418957359ac8f4292c4235dc0ebea06ee9c15bf753528d6d97 and address: 172.28.0.2. This could be a result of using a large number of actors, or it could be a consequence of using nested tasks (see https://github.com/ray-project/ray/issues/3644) for some a discussion of workarounds.\n"
          ],
          "name": "stderr"
        },
        {
          "output_type": "stream",
          "text": [
            "New messages: []\n",
            "New messages: ['Message 0 from worker 0.', 'Message 0 from worker 1.', 'Message 0 from worker 2.']\n",
            "New messages: ['Message 1 from worker 0.', 'Message 1 from worker 1.', 'Message 1 from worker 2.']\n",
            "New messages: ['Message 2 from worker 0.', 'Message 2 from worker 1.', 'Message 2 from worker 2.']\n",
            "New messages: ['Message 3 from worker 0.', 'Message 3 from worker 1.', 'Message 3 from worker 2.']\n",
            "New messages: ['Message 4 from worker 0.', 'Message 4 from worker 1.', 'Message 4 from worker 2.']\n",
            "New messages: ['Message 5 from worker 0.', 'Message 5 from worker 1.', 'Message 5 from worker 2.']\n",
            "New messages: ['Message 6 from worker 0.', 'Message 6 from worker 1.', 'Message 6 from worker 2.']\n",
            "New messages: ['Message 7 from worker 0.', 'Message 7 from worker 1.', 'Message 7 from worker 2.']\n",
            "New messages: ['Message 8 from worker 0.', 'Message 8 from worker 1.', 'Message 8 from worker 2.']\n"
          ],
          "name": "stdout"
        }
      ]
    },
    {
      "cell_type": "markdown",
      "metadata": {
        "id": "MxwlFVdDxI9N"
      },
      "source": [
        "Actors are extremely powerful. They allow you to take a Python class and instantiate it as a microservice which can be queried from other actors and tasks and even other applications."
      ]
    },
    {
      "cell_type": "code",
      "metadata": {
        "id": "Nh9qf_vaYiBB"
      },
      "source": [
        ""
      ],
      "execution_count": null,
      "outputs": []
    },
    {
      "cell_type": "code",
      "metadata": {
        "id": "Ljb2C8QgYh-O"
      },
      "source": [
        ""
      ],
      "execution_count": null,
      "outputs": []
    },
    {
      "cell_type": "code",
      "metadata": {
        "id": "HMI634PRYf77"
      },
      "source": [
        ""
      ],
      "execution_count": null,
      "outputs": []
    }
  ]
}