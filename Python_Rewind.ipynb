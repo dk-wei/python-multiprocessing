{
  "nbformat": 4,
  "nbformat_minor": 0,
  "metadata": {
    "colab": {
      "name": "Python Rewind.ipynb",
      "provenance": [],
      "collapsed_sections": [
        "KbslDSMQMark",
        "VAP7_s5DOz3J",
        "oTnk_clGPLKq",
        "VEeYdQ9UPUgw",
        "KOyVuaw8QS96",
        "97d0q8G8RYiT",
        "7H8s7M6QRsKf",
        "ocY8aS83931k",
        "3QZenjDTGmKu"
      ],
      "toc_visible": true,
      "authorship_tag": "ABX9TyOZd/rrQfQ1QxE88ojQRnRG",
      "include_colab_link": true
    },
    "kernelspec": {
      "name": "python3",
      "display_name": "Python 3"
    }
  },
  "cells": [
    {
      "cell_type": "markdown",
      "metadata": {
        "id": "view-in-github",
        "colab_type": "text"
      },
      "source": [
        "<a href=\"https://colab.research.google.com/github/dk-wei/python-tricks/blob/main/Python_Rewind.ipynb\" target=\"_parent\"><img src=\"https://colab.research.google.com/assets/colab-badge.svg\" alt=\"Open In Colab\"/></a>"
      ]
    },
    {
      "cell_type": "markdown",
      "metadata": {
        "id": "MdVS7yx_3krh"
      },
      "source": [
        "![](https://lh3.google.com/u/0/pgc/AF1QipO7aOX-DzMtD5ObXks0WBEBrxm3M0zOYA05UjOi=w392-h220-no-iv19075)"
      ]
    },
    {
      "cell_type": "markdown",
      "metadata": {
        "id": "qTWtezlDKAhm"
      },
      "source": [
        "# String Manipulation\n",
        "\n",
        " r convert"
      ]
    },
    {
      "cell_type": "code",
      "metadata": {
        "id": "h2LU1M7cGySQ"
      },
      "source": [
        "sent = 'this is a \\n sentence'"
      ],
      "execution_count": null,
      "outputs": []
    },
    {
      "cell_type": "code",
      "metadata": {
        "id": "d6XLVfY0GyPR",
        "colab": {
          "base_uri": "https://localhost:8080/",
          "height": 35
        },
        "outputId": "60168a99-4033-4d6a-fb6c-f6b346d4421c"
      },
      "source": [
        "sent"
      ],
      "execution_count": null,
      "outputs": [
        {
          "output_type": "execute_result",
          "data": {
            "application/vnd.google.colaboratory.intrinsic+json": {
              "type": "string"
            },
            "text/plain": [
              "'this is a \\n sentence'"
            ]
          },
          "metadata": {
            "tags": []
          },
          "execution_count": 2
        }
      ]
    },
    {
      "cell_type": "code",
      "metadata": {
        "id": "D4j3nRMyGyMl",
        "colab": {
          "base_uri": "https://localhost:8080/"
        },
        "outputId": "4e59b685-12d0-4a9e-fce7-215ea1e97dfc"
      },
      "source": [
        "print(sent)"
      ],
      "execution_count": null,
      "outputs": [
        {
          "output_type": "stream",
          "text": [
            "this is a \n",
            " sentence\n"
          ],
          "name": "stdout"
        }
      ]
    },
    {
      "cell_type": "code",
      "metadata": {
        "id": "YK-GCEivGyJy"
      },
      "source": [
        "sent = r'this is a \\n sentence'    # little r convert entire string to normal character and hide these '\\n'"
      ],
      "execution_count": null,
      "outputs": []
    },
    {
      "cell_type": "code",
      "metadata": {
        "id": "4Jnr8bAMGyHa",
        "colab": {
          "base_uri": "https://localhost:8080/",
          "height": 35
        },
        "outputId": "f4d5534c-84a2-4772-ba3c-281969f2014d"
      },
      "source": [
        "sent"
      ],
      "execution_count": null,
      "outputs": [
        {
          "output_type": "execute_result",
          "data": {
            "application/vnd.google.colaboratory.intrinsic+json": {
              "type": "string"
            },
            "text/plain": [
              "'this is a \\\\n sentence'"
            ]
          },
          "metadata": {
            "tags": []
          },
          "execution_count": 5
        }
      ]
    },
    {
      "cell_type": "code",
      "metadata": {
        "id": "EvYfBfxOGyEX",
        "colab": {
          "base_uri": "https://localhost:8080/"
        },
        "outputId": "cce735d3-c065-4688-b752-319af643c946"
      },
      "source": [
        "print(sent)"
      ],
      "execution_count": null,
      "outputs": [
        {
          "output_type": "stream",
          "text": [
            "this is a \\n sentence\n"
          ],
          "name": "stdout"
        }
      ]
    },
    {
      "cell_type": "markdown",
      "metadata": {
        "id": "hlLh-IEXKE-v"
      },
      "source": [
        "## Check if substring"
      ]
    },
    {
      "cell_type": "code",
      "metadata": {
        "id": "URyA7no3GyBn"
      },
      "source": [
        "sent = 'hello world'"
      ],
      "execution_count": null,
      "outputs": []
    },
    {
      "cell_type": "code",
      "metadata": {
        "id": "GLyOvZo9GyAb",
        "colab": {
          "base_uri": "https://localhost:8080/"
        },
        "outputId": "63fbc148-db68-4502-8680-7c196b3a3b4b"
      },
      "source": [
        "'hello' in sent"
      ],
      "execution_count": null,
      "outputs": [
        {
          "output_type": "execute_result",
          "data": {
            "text/plain": [
              "True"
            ]
          },
          "metadata": {
            "tags": []
          },
          "execution_count": 11
        }
      ]
    },
    {
      "cell_type": "markdown",
      "metadata": {
        "id": "ERJT9WyoK0TN"
      },
      "source": [
        "## Upper and lower check"
      ]
    },
    {
      "cell_type": "code",
      "metadata": {
        "id": "OuYq0dE4Gx67"
      },
      "source": [
        "sent = 'I love blueberries'"
      ],
      "execution_count": null,
      "outputs": []
    },
    {
      "cell_type": "code",
      "metadata": {
        "id": "_O4nKjXOKWqa",
        "colab": {
          "base_uri": "https://localhost:8080/",
          "height": 35
        },
        "outputId": "2853cbe0-900e-45dd-b456-3a8813e8df9f"
      },
      "source": [
        "sent.upper()"
      ],
      "execution_count": null,
      "outputs": [
        {
          "output_type": "execute_result",
          "data": {
            "application/vnd.google.colaboratory.intrinsic+json": {
              "type": "string"
            },
            "text/plain": [
              "'I LOVE BLUEBERRIES'"
            ]
          },
          "metadata": {
            "tags": []
          },
          "execution_count": 13
        }
      ]
    },
    {
      "cell_type": "code",
      "metadata": {
        "id": "mPCdsbbKKWwX",
        "colab": {
          "base_uri": "https://localhost:8080/",
          "height": 35
        },
        "outputId": "80d6144a-cecf-4f84-d425-d98aff0e6eb0"
      },
      "source": [
        "sent.lower()"
      ],
      "execution_count": null,
      "outputs": [
        {
          "output_type": "execute_result",
          "data": {
            "application/vnd.google.colaboratory.intrinsic+json": {
              "type": "string"
            },
            "text/plain": [
              "'i love blueberries'"
            ]
          },
          "metadata": {
            "tags": []
          },
          "execution_count": 14
        }
      ]
    },
    {
      "cell_type": "code",
      "metadata": {
        "id": "KuPt-xPCKW8Q",
        "colab": {
          "base_uri": "https://localhost:8080/"
        },
        "outputId": "dedc38c3-fc96-44d9-99a9-6a276fe833ff"
      },
      "source": [
        "sent.isupper()"
      ],
      "execution_count": null,
      "outputs": [
        {
          "output_type": "execute_result",
          "data": {
            "text/plain": [
              "False"
            ]
          },
          "metadata": {
            "tags": []
          },
          "execution_count": 15
        }
      ]
    },
    {
      "cell_type": "code",
      "metadata": {
        "id": "DrQKPP3BKXFm",
        "colab": {
          "base_uri": "https://localhost:8080/"
        },
        "outputId": "203e8b79-0603-4db4-a17a-7f61f0e297b3"
      },
      "source": [
        "sent.islower()"
      ],
      "execution_count": null,
      "outputs": [
        {
          "output_type": "execute_result",
          "data": {
            "text/plain": [
              "False"
            ]
          },
          "metadata": {
            "tags": []
          },
          "execution_count": 16
        }
      ]
    },
    {
      "cell_type": "code",
      "metadata": {
        "id": "wzA0OrDjKXRr",
        "colab": {
          "base_uri": "https://localhost:8080/"
        },
        "outputId": "f1d9c891-e032-420e-ffe6-7c593f88c022"
      },
      "source": [
        "sent.isalpha()"
      ],
      "execution_count": null,
      "outputs": [
        {
          "output_type": "execute_result",
          "data": {
            "text/plain": [
              "False"
            ]
          },
          "metadata": {
            "tags": []
          },
          "execution_count": 17
        }
      ]
    },
    {
      "cell_type": "code",
      "metadata": {
        "id": "lDFCoJoDKXN4",
        "colab": {
          "base_uri": "https://localhost:8080/"
        },
        "outputId": "8e3235f1-c22b-4854-e743-c6d37ba18741"
      },
      "source": [
        "sent.isdigit()"
      ],
      "execution_count": null,
      "outputs": [
        {
          "output_type": "execute_result",
          "data": {
            "text/plain": [
              "False"
            ]
          },
          "metadata": {
            "tags": []
          },
          "execution_count": 18
        }
      ]
    },
    {
      "cell_type": "code",
      "metadata": {
        "id": "JB5mK3JqKXMe",
        "colab": {
          "base_uri": "https://localhost:8080/"
        },
        "outputId": "4c5093bd-3478-449c-ac46-d02265f0133a"
      },
      "source": [
        "sent.isdecimal()"
      ],
      "execution_count": null,
      "outputs": [
        {
          "output_type": "execute_result",
          "data": {
            "text/plain": [
              "False"
            ]
          },
          "metadata": {
            "tags": []
          },
          "execution_count": 19
        }
      ]
    },
    {
      "cell_type": "code",
      "metadata": {
        "id": "81pTwywmKXI4"
      },
      "source": [
        "sent = 'Ruby is walking the dog'"
      ],
      "execution_count": null,
      "outputs": []
    },
    {
      "cell_type": "code",
      "metadata": {
        "id": "XKvlogk8KXDY",
        "colab": {
          "base_uri": "https://localhost:8080/"
        },
        "outputId": "0c9da8bb-6b66-48c0-f2a9-24d5e96e50a7"
      },
      "source": [
        "sent.startswith('Ruby')"
      ],
      "execution_count": null,
      "outputs": [
        {
          "output_type": "execute_result",
          "data": {
            "text/plain": [
              "True"
            ]
          },
          "metadata": {
            "tags": []
          },
          "execution_count": 21
        }
      ]
    },
    {
      "cell_type": "code",
      "metadata": {
        "id": "PPbfNGlLKXBE",
        "colab": {
          "base_uri": "https://localhost:8080/"
        },
        "outputId": "fa4dccbd-bdf3-4ebc-b4b4-34f7c1c78951"
      },
      "source": [
        "sent.endswith('dog')"
      ],
      "execution_count": null,
      "outputs": [
        {
          "output_type": "execute_result",
          "data": {
            "text/plain": [
              "True"
            ]
          },
          "metadata": {
            "tags": []
          },
          "execution_count": 22
        }
      ]
    },
    {
      "cell_type": "code",
      "metadata": {
        "id": "oqsybxmsKW4k",
        "colab": {
          "base_uri": "https://localhost:8080/"
        },
        "outputId": "259820b0-6ef7-421f-8a48-ebf4f1e3b46b"
      },
      "source": [
        "sent.split(' ')"
      ],
      "execution_count": null,
      "outputs": [
        {
          "output_type": "execute_result",
          "data": {
            "text/plain": [
              "['Ruby', 'is', 'walking', 'the', 'dog']"
            ]
          },
          "metadata": {
            "tags": []
          },
          "execution_count": 23
        }
      ]
    },
    {
      "cell_type": "code",
      "metadata": {
        "id": "uPJHyiW5KWtW",
        "colab": {
          "base_uri": "https://localhost:8080/",
          "height": 35
        },
        "outputId": "421f4b9c-9e5e-41a5-dc8b-b922e6ee9c39"
      },
      "source": [
        "' '.join(sent.split(' '))"
      ],
      "execution_count": null,
      "outputs": [
        {
          "output_type": "execute_result",
          "data": {
            "application/vnd.google.colaboratory.intrinsic+json": {
              "type": "string"
            },
            "text/plain": [
              "'Ruby is walking the dog'"
            ]
          },
          "metadata": {
            "tags": []
          },
          "execution_count": 24
        }
      ]
    },
    {
      "cell_type": "markdown",
      "metadata": {
        "id": "KbslDSMQMark"
      },
      "source": [
        "## Strip method"
      ]
    },
    {
      "cell_type": "code",
      "metadata": {
        "id": "WwYp-aQDMZ6B"
      },
      "source": [
        "sent = ' this is a sentence    '"
      ],
      "execution_count": null,
      "outputs": []
    },
    {
      "cell_type": "code",
      "metadata": {
        "id": "3OznrDAEKWne",
        "colab": {
          "base_uri": "https://localhost:8080/",
          "height": 35
        },
        "outputId": "bb901627-0264-4a9c-de78-14c7246794d7"
      },
      "source": [
        "sent.strip()"
      ],
      "execution_count": null,
      "outputs": [
        {
          "output_type": "execute_result",
          "data": {
            "application/vnd.google.colaboratory.intrinsic+json": {
              "type": "string"
            },
            "text/plain": [
              "'this is a sentence'"
            ]
          },
          "metadata": {
            "tags": []
          },
          "execution_count": 26
        }
      ]
    },
    {
      "cell_type": "code",
      "metadata": {
        "id": "lNxhyvyXMoY7",
        "colab": {
          "base_uri": "https://localhost:8080/",
          "height": 35
        },
        "outputId": "11edc24c-72e2-455f-f82a-af9fdcd476d5"
      },
      "source": [
        "sent.lstrip()"
      ],
      "execution_count": null,
      "outputs": [
        {
          "output_type": "execute_result",
          "data": {
            "application/vnd.google.colaboratory.intrinsic+json": {
              "type": "string"
            },
            "text/plain": [
              "'this is a sentence    '"
            ]
          },
          "metadata": {
            "tags": []
          },
          "execution_count": 27
        }
      ]
    },
    {
      "cell_type": "code",
      "metadata": {
        "id": "6Dnjnr9xMogs",
        "colab": {
          "base_uri": "https://localhost:8080/",
          "height": 35
        },
        "outputId": "bd8d1ca8-383e-4c4e-ad0a-c4a214e4466f"
      },
      "source": [
        "sent.rstrip()"
      ],
      "execution_count": null,
      "outputs": [
        {
          "output_type": "execute_result",
          "data": {
            "application/vnd.google.colaboratory.intrinsic+json": {
              "type": "string"
            },
            "text/plain": [
              "' this is a sentence'"
            ]
          },
          "metadata": {
            "tags": []
          },
          "execution_count": 28
        }
      ]
    },
    {
      "cell_type": "markdown",
      "metadata": {
        "id": "VAP7_s5DOz3J"
      },
      "source": [
        "## Count method"
      ]
    },
    {
      "cell_type": "code",
      "metadata": {
        "id": "tVfj5SBRO9Ff",
        "colab": {
          "base_uri": "https://localhost:8080/",
          "height": 35
        },
        "outputId": "3fd4da71-3978-447b-b9aa-8678da1092a9"
      },
      "source": [
        "sent"
      ],
      "execution_count": null,
      "outputs": [
        {
          "output_type": "execute_result",
          "data": {
            "application/vnd.google.colaboratory.intrinsic+json": {
              "type": "string"
            },
            "text/plain": [
              "' this is a sentence    '"
            ]
          },
          "metadata": {
            "tags": []
          },
          "execution_count": 33
        }
      ]
    },
    {
      "cell_type": "code",
      "metadata": {
        "id": "wJg1z3kTMopH",
        "colab": {
          "base_uri": "https://localhost:8080/"
        },
        "outputId": "b261bbd0-dc88-4b87-dce4-74508d3564f8"
      },
      "source": [
        "sent.count('i')"
      ],
      "execution_count": null,
      "outputs": [
        {
          "output_type": "execute_result",
          "data": {
            "text/plain": [
              "2"
            ]
          },
          "metadata": {
            "tags": []
          },
          "execution_count": 35
        }
      ]
    },
    {
      "cell_type": "markdown",
      "metadata": {
        "id": "oTnk_clGPLKq"
      },
      "source": [
        "## Find method*"
      ]
    },
    {
      "cell_type": "code",
      "metadata": {
        "colab": {
          "base_uri": "https://localhost:8080/",
          "height": 35
        },
        "id": "E-wpH0BNOMA2",
        "outputId": "336f877c-9b31-41ce-9de6-7d5d2c8aafac"
      },
      "source": [
        "sent"
      ],
      "execution_count": null,
      "outputs": [
        {
          "output_type": "execute_result",
          "data": {
            "application/vnd.google.colaboratory.intrinsic+json": {
              "type": "string"
            },
            "text/plain": [
              "' this is a sentence    '"
            ]
          },
          "metadata": {
            "tags": []
          },
          "execution_count": 36
        }
      ]
    },
    {
      "cell_type": "code",
      "metadata": {
        "id": "CbdfWVDdMomI",
        "colab": {
          "base_uri": "https://localhost:8080/"
        },
        "outputId": "95564d51-5c24-431f-e857-6a1de35b424f"
      },
      "source": [
        "sent.find('sent')"
      ],
      "execution_count": null,
      "outputs": [
        {
          "output_type": "execute_result",
          "data": {
            "text/plain": [
              "11"
            ]
          },
          "metadata": {
            "tags": []
          },
          "execution_count": 31
        }
      ]
    },
    {
      "cell_type": "code",
      "metadata": {
        "id": "g9XiL73cMod2",
        "colab": {
          "base_uri": "https://localhost:8080/"
        },
        "outputId": "26913952-2f52-4422-eb9d-ac8b33db03f4"
      },
      "source": [
        "sent.find('tens')"
      ],
      "execution_count": null,
      "outputs": [
        {
          "output_type": "execute_result",
          "data": {
            "text/plain": [
              "-1"
            ]
          },
          "metadata": {
            "tags": []
          },
          "execution_count": 32
        }
      ]
    },
    {
      "cell_type": "markdown",
      "metadata": {
        "id": "VEeYdQ9UPUgw"
      },
      "source": [
        "## Replace method"
      ]
    },
    {
      "cell_type": "code",
      "metadata": {
        "id": "qUCsvb-IMoVn",
        "colab": {
          "base_uri": "https://localhost:8080/",
          "height": 35
        },
        "outputId": "9cdb71d8-d853-4d94-c999-dd61d2d5e526"
      },
      "source": [
        "sent.replace('sent', 'LOL')"
      ],
      "execution_count": null,
      "outputs": [
        {
          "output_type": "execute_result",
          "data": {
            "application/vnd.google.colaboratory.intrinsic+json": {
              "type": "string"
            },
            "text/plain": [
              "' this is a LOLence    '"
            ]
          },
          "metadata": {
            "tags": []
          },
          "execution_count": 40
        }
      ]
    },
    {
      "cell_type": "markdown",
      "metadata": {
        "id": "KOyVuaw8QS96"
      },
      "source": [
        "## String concat"
      ]
    },
    {
      "cell_type": "code",
      "metadata": {
        "id": "o41TCClkQR9M",
        "colab": {
          "base_uri": "https://localhost:8080/",
          "height": 35
        },
        "outputId": "401e49f1-fc89-4b80-bb47-3e787cbd3917"
      },
      "source": [
        "'i'+' ' + 'like' + '  it'"
      ],
      "execution_count": null,
      "outputs": [
        {
          "output_type": "execute_result",
          "data": {
            "application/vnd.google.colaboratory.intrinsic+json": {
              "type": "string"
            },
            "text/plain": [
              "'i like  it'"
            ]
          },
          "metadata": {
            "tags": []
          },
          "execution_count": 41
        }
      ]
    },
    {
      "cell_type": "markdown",
      "metadata": {
        "id": "97d0q8G8RYiT"
      },
      "source": [
        "## String format 以及更fancy的写法"
      ]
    },
    {
      "cell_type": "code",
      "metadata": {
        "id": "uQzqZ8kJQSGz",
        "colab": {
          "base_uri": "https://localhost:8080/"
        },
        "outputId": "286d669e-9848-4e6d-d2fd-15f99c6ef4e7"
      },
      "source": [
        "greeting = 'hello'\n",
        "name = 'Jack'\n",
        "\n",
        "msg = '{}, {}. Welcome'.format(greeting, name)\n",
        "\n",
        "print(msg)"
      ],
      "execution_count": null,
      "outputs": [
        {
          "output_type": "stream",
          "text": [
            "hello, Jack. Welcome\n"
          ],
          "name": "stdout"
        }
      ]
    },
    {
      "cell_type": "code",
      "metadata": {
        "id": "0GWu2AYWQSNG",
        "colab": {
          "base_uri": "https://localhost:8080/"
        },
        "outputId": "6a2c5e0c-67bc-4af9-dfc9-0ebd0868d4aa"
      },
      "source": [
        "msg = f'{greeting}, {name.upper()}. Welcome'   # 更fancy的表达, 注意前面的小f\n",
        "print(msg)"
      ],
      "execution_count": null,
      "outputs": [
        {
          "output_type": "stream",
          "text": [
            "hello, JACK. Welcome\n"
          ],
          "name": "stdout"
        }
      ]
    },
    {
      "cell_type": "markdown",
      "metadata": {
        "id": "7H8s7M6QRsKf"
      },
      "source": [
        "## 康康还有哪些可以用的string manipulation"
      ]
    },
    {
      "cell_type": "code",
      "metadata": {
        "id": "xkK-2o7rQSR7"
      },
      "source": [
        "dir(msg)"
      ],
      "execution_count": null,
      "outputs": []
    },
    {
      "cell_type": "code",
      "metadata": {
        "id": "DB2xkDv9QSJ_"
      },
      "source": [
        "print(help(str))"
      ],
      "execution_count": null,
      "outputs": []
    },
    {
      "cell_type": "markdown",
      "metadata": {
        "id": "kMBR17da90P7"
      },
      "source": [
        "# Lists, Tuples, and Sets"
      ]
    },
    {
      "cell_type": "markdown",
      "metadata": {
        "id": "ocY8aS83931k"
      },
      "source": [
        "## list"
      ]
    },
    {
      "cell_type": "code",
      "metadata": {
        "id": "SI_u579A8_DS",
        "colab": {
          "base_uri": "https://localhost:8080/"
        },
        "outputId": "f4da53b5-010c-4be1-9b5c-ea582e87fc26"
      },
      "source": [
        "courses = ['history', 'math', 'physics', 'compsci', 'art']\n",
        "courses.append('gym')     # append 到末位\n",
        "courses"
      ],
      "execution_count": null,
      "outputs": [
        {
          "output_type": "execute_result",
          "data": {
            "text/plain": [
              "['history', 'math', 'physics', 'compsci', 'art', 'gym']"
            ]
          },
          "metadata": {
            "tags": []
          },
          "execution_count": 47
        }
      ]
    },
    {
      "cell_type": "code",
      "metadata": {
        "id": "K7MLtmAn8_YE",
        "colab": {
          "base_uri": "https://localhost:8080/"
        },
        "outputId": "b5221c91-e3fc-4f6d-d309-c1c08c4c8365"
      },
      "source": [
        "courses = ['history', 'math', 'physics', 'compsci', 'art']\n",
        "courses.insert(0, 'lit')    # insert 到指定位置\n",
        "courses"
      ],
      "execution_count": null,
      "outputs": [
        {
          "output_type": "execute_result",
          "data": {
            "text/plain": [
              "['lit', 'history', 'math', 'physics', 'compsci', 'art']"
            ]
          },
          "metadata": {
            "tags": []
          },
          "execution_count": 48
        }
      ]
    },
    {
      "cell_type": "code",
      "metadata": {
        "id": "5bRX0mJR8_hG",
        "colab": {
          "base_uri": "https://localhost:8080/"
        },
        "outputId": "ec9216bc-8e18-453d-84b6-0dceea14f64c"
      },
      "source": [
        "courses = ['history', 'math', 'physics', 'compsci', 'art']\n",
        "courses.insert(0, ['lit', 'cook'])    # insert 到指定位置\n",
        "courses"
      ],
      "execution_count": null,
      "outputs": [
        {
          "output_type": "execute_result",
          "data": {
            "text/plain": [
              "[['lit', 'cook'], 'history', 'math', 'physics', 'compsci', 'art']"
            ]
          },
          "metadata": {
            "tags": []
          },
          "execution_count": 49
        }
      ]
    },
    {
      "cell_type": "code",
      "metadata": {
        "id": "CHPWivcX8_q7",
        "colab": {
          "base_uri": "https://localhost:8080/"
        },
        "outputId": "8eefa347-9e10-40d7-ee35-e22c7b1f1e06"
      },
      "source": [
        "courses = ['history', 'math', 'physics', 'compsci', 'art']\n",
        "courses.extend(['lit', 'cook'])    # extend list中的每个元素到指定list\n",
        "courses"
      ],
      "execution_count": null,
      "outputs": [
        {
          "output_type": "execute_result",
          "data": {
            "text/plain": [
              "['history', 'math', 'physics', 'compsci', 'art', 'lit', 'cook']"
            ]
          },
          "metadata": {
            "tags": []
          },
          "execution_count": 50
        }
      ]
    },
    {
      "cell_type": "code",
      "metadata": {
        "colab": {
          "base_uri": "https://localhost:8080/"
        },
        "id": "Sve846WfPPeb",
        "outputId": "34747ff8-ced1-49be-cee8-964e4f66d8e2"
      },
      "source": [
        "courses = ['history', 'math', 'physics', 'compsci', 'art']\n",
        "courses + ['lit', 'cook']"
      ],
      "execution_count": null,
      "outputs": [
        {
          "output_type": "execute_result",
          "data": {
            "text/plain": [
              "['history', 'math', 'physics', 'compsci', 'art', 'lit', 'cook']"
            ]
          },
          "metadata": {
            "tags": []
          },
          "execution_count": 53
        }
      ]
    },
    {
      "cell_type": "code",
      "metadata": {
        "id": "fIrLBtJ_8_tc",
        "colab": {
          "base_uri": "https://localhost:8080/",
          "height": 35
        },
        "outputId": "32d2cf2d-2a62-45f7-f866-ed79f9bb0a61"
      },
      "source": [
        "courses = ['history', 'math', 'physics', 'compsci', 'art']\n",
        "popped = courses.pop()      #pop掉list最右边的element\n",
        "popped"
      ],
      "execution_count": null,
      "outputs": [
        {
          "output_type": "execute_result",
          "data": {
            "application/vnd.google.colaboratory.intrinsic+json": {
              "type": "string"
            },
            "text/plain": [
              "'art'"
            ]
          },
          "metadata": {
            "tags": []
          },
          "execution_count": 15
        }
      ]
    },
    {
      "cell_type": "code",
      "metadata": {
        "id": "phtQg5eO8_08",
        "colab": {
          "base_uri": "https://localhost:8080/"
        },
        "outputId": "d2457875-7a6a-43cf-dc04-c9d362a9c753"
      },
      "source": [
        "courses = ['history', 'math', 'physics', 'compsci', 'art']\n",
        "courses.reverse()\n",
        "courses"
      ],
      "execution_count": null,
      "outputs": [
        {
          "output_type": "execute_result",
          "data": {
            "text/plain": [
              "['art', 'compsci', 'physics', 'math', 'history']"
            ]
          },
          "metadata": {
            "tags": []
          },
          "execution_count": 18
        }
      ]
    },
    {
      "cell_type": "code",
      "metadata": {
        "colab": {
          "base_uri": "https://localhost:8080/"
        },
        "id": "2jj6PsaPPbwN",
        "outputId": "33f7385f-9551-4459-b853-e8d491dcfa57"
      },
      "source": [
        "courses = ['history', 'math', 'physics', 'compsci', 'art']\n",
        "courses[::-1]"
      ],
      "execution_count": null,
      "outputs": [
        {
          "output_type": "execute_result",
          "data": {
            "text/plain": [
              "['art', 'compsci', 'physics', 'math', 'history']"
            ]
          },
          "metadata": {
            "tags": []
          },
          "execution_count": 54
        }
      ]
    },
    {
      "cell_type": "code",
      "metadata": {
        "id": "XNwrYLq38_zQ",
        "colab": {
          "base_uri": "https://localhost:8080/"
        },
        "outputId": "1ed6ff5a-cc74-4845-f401-9afff32aa185"
      },
      "source": [
        "courses = ['history', 'math', 'physics', 'compsci', 'art']\n",
        "courses.sort()\n",
        "courses"
      ],
      "execution_count": null,
      "outputs": [
        {
          "output_type": "execute_result",
          "data": {
            "text/plain": [
              "['art', 'compsci', 'history', 'math', 'physics']"
            ]
          },
          "metadata": {
            "tags": []
          },
          "execution_count": 19
        }
      ]
    },
    {
      "cell_type": "code",
      "metadata": {
        "id": "pz7hBsw98_x5",
        "colab": {
          "base_uri": "https://localhost:8080/"
        },
        "outputId": "ac2cbd2a-2e5c-40f9-da17-380028b99778"
      },
      "source": [
        "courses = ['history', 'math', 'physics', 'compsci', 'art']\n",
        "courses.sort(reverse=True)\n",
        "courses"
      ],
      "execution_count": null,
      "outputs": [
        {
          "output_type": "execute_result",
          "data": {
            "text/plain": [
              "['physics', 'math', 'history', 'compsci', 'art']"
            ]
          },
          "metadata": {
            "tags": []
          },
          "execution_count": 21
        }
      ]
    },
    {
      "cell_type": "code",
      "metadata": {
        "id": "Bc2MSBhj8_nZ",
        "colab": {
          "base_uri": "https://localhost:8080/"
        },
        "outputId": "8b79f3a5-2195-4865-9cd3-2b36ee10f4a0"
      },
      "source": [
        "# enumerate 得到list各个item的位置\n",
        "courses = ['history', 'math', 'physics', 'compsci', 'art']\n",
        "\n",
        "for index, value in enumerate(courses, start = 1):\n",
        "  print(index, value)"
      ],
      "execution_count": null,
      "outputs": [
        {
          "output_type": "stream",
          "text": [
            "1 history\n",
            "2 math\n",
            "3 physics\n",
            "4 compsci\n",
            "5 art\n"
          ],
          "name": "stdout"
        }
      ]
    },
    {
      "cell_type": "markdown",
      "source": [
        "### Lambda Function"
      ],
      "metadata": {
        "id": "B7qGD0nNvwW2"
      }
    },
    {
      "cell_type": "code",
      "source": [
        "l1 = [1,2,3,4,5]\n",
        "l2 = [3,4,5,6,7]\n",
        "\n",
        "list(map(lambda x, y: x+y, l1, l2))"
      ],
      "metadata": {
        "colab": {
          "base_uri": "https://localhost:8080/"
        },
        "id": "t7WEuWcOvvgg",
        "outputId": "d54d97ea-f8f4-47f2-82a7-b02f0348a742"
      },
      "execution_count": 1,
      "outputs": [
        {
          "output_type": "execute_result",
          "data": {
            "text/plain": [
              "[4, 6, 8, 10, 12]"
            ]
          },
          "metadata": {},
          "execution_count": 1
        }
      ]
    },
    {
      "cell_type": "markdown",
      "metadata": {
        "id": "3QZenjDTGmKu"
      },
      "source": [
        "## Tuple\n",
        "\n",
        "tuple和list最大的不同是tuple是immutable，也就是不能改变，或者insert，pop任何元素，如果只是想loop thru, 其实和list无甚区别"
      ]
    },
    {
      "cell_type": "code",
      "metadata": {
        "id": "j5iPV_zm8_dC",
        "colab": {
          "base_uri": "https://localhost:8080/",
          "height": 181
        },
        "outputId": "7cbb8776-1c66-4f2d-d71a-4faf98b91c7f"
      },
      "source": [
        "courses = ('history', 'math', 'physics', 'compsci', 'art')\n",
        "courses[1] = 'chinese'"
      ],
      "execution_count": null,
      "outputs": [
        {
          "output_type": "error",
          "ename": "TypeError",
          "evalue": "ignored",
          "traceback": [
            "\u001b[0;31m---------------------------------------------------------------------------\u001b[0m",
            "\u001b[0;31mTypeError\u001b[0m                                 Traceback (most recent call last)",
            "\u001b[0;32m<ipython-input-26-43d719f2d24f>\u001b[0m in \u001b[0;36m<module>\u001b[0;34m()\u001b[0m\n\u001b[1;32m      1\u001b[0m \u001b[0mcourses\u001b[0m \u001b[0;34m=\u001b[0m \u001b[0;34m(\u001b[0m\u001b[0;34m'history'\u001b[0m\u001b[0;34m,\u001b[0m \u001b[0;34m'math'\u001b[0m\u001b[0;34m,\u001b[0m \u001b[0;34m'physics'\u001b[0m\u001b[0;34m,\u001b[0m \u001b[0;34m'compsci'\u001b[0m\u001b[0;34m,\u001b[0m \u001b[0;34m'art'\u001b[0m\u001b[0;34m)\u001b[0m\u001b[0;34m\u001b[0m\u001b[0;34m\u001b[0m\u001b[0m\n\u001b[0;32m----> 2\u001b[0;31m \u001b[0mcourses\u001b[0m\u001b[0;34m[\u001b[0m\u001b[0;36m1\u001b[0m\u001b[0;34m]\u001b[0m \u001b[0;34m=\u001b[0m \u001b[0;34m'chinese'\u001b[0m\u001b[0;34m\u001b[0m\u001b[0;34m\u001b[0m\u001b[0m\n\u001b[0m",
            "\u001b[0;31mTypeError\u001b[0m: 'tuple' object does not support item assignment"
          ]
        }
      ]
    },
    {
      "cell_type": "code",
      "metadata": {
        "id": "91BcSa4p8_UY",
        "colab": {
          "base_uri": "https://localhost:8080/",
          "height": 164
        },
        "outputId": "a41f9073-f76e-4835-9c47-8fd608144101"
      },
      "source": [
        "courses.pop()"
      ],
      "execution_count": null,
      "outputs": [
        {
          "output_type": "error",
          "ename": "AttributeError",
          "evalue": "ignored",
          "traceback": [
            "\u001b[0;31m---------------------------------------------------------------------------\u001b[0m",
            "\u001b[0;31mAttributeError\u001b[0m                            Traceback (most recent call last)",
            "\u001b[0;32m<ipython-input-27-767e10d47f20>\u001b[0m in \u001b[0;36m<module>\u001b[0;34m()\u001b[0m\n\u001b[0;32m----> 1\u001b[0;31m \u001b[0mcourses\u001b[0m\u001b[0;34m.\u001b[0m\u001b[0mpop\u001b[0m\u001b[0;34m(\u001b[0m\u001b[0;34m)\u001b[0m\u001b[0;34m\u001b[0m\u001b[0;34m\u001b[0m\u001b[0m\n\u001b[0m",
            "\u001b[0;31mAttributeError\u001b[0m: 'tuple' object has no attribute 'pop'"
          ]
        }
      ]
    },
    {
      "cell_type": "markdown",
      "metadata": {
        "id": "dBC06WOpHIj1"
      },
      "source": [
        "# Set"
      ]
    },
    {
      "cell_type": "code",
      "metadata": {
        "id": "l_hoRnM-8_Rb",
        "colab": {
          "base_uri": "https://localhost:8080/"
        },
        "outputId": "7cbacd76-4319-4d5e-a6ee-f776ff7b3a45"
      },
      "source": [
        "courses = {'history', 'math', 'physics', 'compsci', 'art', 'math'}\n",
        "courses     # set自动给排序了"
      ],
      "execution_count": null,
      "outputs": [
        {
          "output_type": "execute_result",
          "data": {
            "text/plain": [
              "{'art', 'compsci', 'history', 'math', 'physics'}"
            ]
          },
          "metadata": {
            "tags": []
          },
          "execution_count": 33
        }
      ]
    },
    {
      "cell_type": "code",
      "metadata": {
        "id": "orVXK84X8_KK",
        "colab": {
          "base_uri": "https://localhost:8080/",
          "height": 164
        },
        "outputId": "c0cc9d57-73b2-4199-be3f-59892486e60d"
      },
      "source": [
        "courses[0]    # set里面没有order和index这一说，要得到order，得先转换成list"
      ],
      "execution_count": null,
      "outputs": [
        {
          "output_type": "error",
          "ename": "TypeError",
          "evalue": "ignored",
          "traceback": [
            "\u001b[0;31m---------------------------------------------------------------------------\u001b[0m",
            "\u001b[0;31mTypeError\u001b[0m                                 Traceback (most recent call last)",
            "\u001b[0;32m<ipython-input-32-e859caa681af>\u001b[0m in \u001b[0;36m<module>\u001b[0;34m()\u001b[0m\n\u001b[0;32m----> 1\u001b[0;31m \u001b[0mcourses\u001b[0m\u001b[0;34m[\u001b[0m\u001b[0;36m0\u001b[0m\u001b[0;34m]\u001b[0m\u001b[0;34m\u001b[0m\u001b[0;34m\u001b[0m\u001b[0m\n\u001b[0m",
            "\u001b[0;31mTypeError\u001b[0m: 'set' object does not support indexing"
          ]
        }
      ]
    },
    {
      "cell_type": "code",
      "metadata": {
        "id": "jUslDJKCQSCw"
      },
      "source": [
        "cs_courses = {'hist', 'math', 'physics', 'compsci'}\n",
        "art_courses = {'hist', 'math', 'art', 'design'}"
      ],
      "execution_count": null,
      "outputs": []
    },
    {
      "cell_type": "code",
      "metadata": {
        "id": "rVo_RFJxGqRP",
        "colab": {
          "base_uri": "https://localhost:8080/"
        },
        "outputId": "7e40e9d3-632f-4e8f-eb91-532fc3287584"
      },
      "source": [
        "cs_courses.intersection(art_courses)  #交集"
      ],
      "execution_count": null,
      "outputs": [
        {
          "output_type": "execute_result",
          "data": {
            "text/plain": [
              "{'hist', 'math'}"
            ]
          },
          "metadata": {
            "tags": []
          },
          "execution_count": 38
        }
      ]
    },
    {
      "cell_type": "code",
      "metadata": {
        "id": "qm1QFHMhJNW1",
        "colab": {
          "base_uri": "https://localhost:8080/"
        },
        "outputId": "13d425c7-6737-417d-9973-22d59e9612f2"
      },
      "source": [
        "cs_courses.difference(art_courses)     # cs_courses有而art_courses没有"
      ],
      "execution_count": null,
      "outputs": [
        {
          "output_type": "execute_result",
          "data": {
            "text/plain": [
              "{'compsci', 'physics'}"
            ]
          },
          "metadata": {
            "tags": []
          },
          "execution_count": 39
        }
      ]
    },
    {
      "cell_type": "code",
      "metadata": {
        "id": "AtwOTIJdJQEq",
        "colab": {
          "base_uri": "https://localhost:8080/"
        },
        "outputId": "e7046471-8360-4de1-deb9-b465cedf1e06"
      },
      "source": [
        "art_courses.difference(cs_courses)     # art_courses有而cs_courses没有"
      ],
      "execution_count": null,
      "outputs": [
        {
          "output_type": "execute_result",
          "data": {
            "text/plain": [
              "{'art', 'design'}"
            ]
          },
          "metadata": {
            "tags": []
          },
          "execution_count": 40
        }
      ]
    },
    {
      "cell_type": "code",
      "metadata": {
        "id": "rBdjdjftJcVI",
        "colab": {
          "base_uri": "https://localhost:8080/"
        },
        "outputId": "082839ad-76e7-490a-9c90-0ef532271f1e"
      },
      "source": [
        "art_courses.union(cs_courses)     # 并集"
      ],
      "execution_count": null,
      "outputs": [
        {
          "output_type": "execute_result",
          "data": {
            "text/plain": [
              "{'art', 'compsci', 'design', 'hist', 'math', 'physics'}"
            ]
          },
          "metadata": {
            "tags": []
          },
          "execution_count": 42
        }
      ]
    },
    {
      "cell_type": "code",
      "metadata": {
        "id": "NDJLhzpvJiPK"
      },
      "source": [
        "empty_set = set()   #注意不是{}, 这个是创建dict\n"
      ],
      "execution_count": null,
      "outputs": []
    },
    {
      "cell_type": "markdown",
      "metadata": {
        "id": "GFHdlOFSKC6D"
      },
      "source": [
        "# Dictionary"
      ]
    },
    {
      "cell_type": "code",
      "metadata": {
        "id": "phzXZXNJKEcg",
        "colab": {
          "base_uri": "https://localhost:8080/"
        },
        "outputId": "8d5818ce-f33d-4b47-b751-983172016050"
      },
      "source": [
        "student = {'name': 'john', 'age': 25, 'course': ['math', 'compsci']}\n",
        "student"
      ],
      "execution_count": null,
      "outputs": [
        {
          "output_type": "execute_result",
          "data": {
            "text/plain": [
              "{'age': 25, 'course': ['math', 'compsci'], 'name': 'john'}"
            ]
          },
          "metadata": {
            "tags": []
          },
          "execution_count": 38
        }
      ]
    },
    {
      "cell_type": "code",
      "metadata": {
        "id": "0YI3wa_0KEjl",
        "colab": {
          "base_uri": "https://localhost:8080/",
          "height": 164
        },
        "outputId": "64818d33-cdf9-4643-9466-1128b0611a38"
      },
      "source": [
        "# 不存在的key不能索引，但是可以赋值\n",
        "student['phone']"
      ],
      "execution_count": null,
      "outputs": [
        {
          "output_type": "error",
          "ename": "KeyError",
          "evalue": "ignored",
          "traceback": [
            "\u001b[0;31m---------------------------------------------------------------------------\u001b[0m",
            "\u001b[0;31mKeyError\u001b[0m                                  Traceback (most recent call last)",
            "\u001b[0;32m<ipython-input-46-0030bbd15c2c>\u001b[0m in \u001b[0;36m<module>\u001b[0;34m()\u001b[0m\n\u001b[0;32m----> 1\u001b[0;31m \u001b[0mstudent\u001b[0m\u001b[0;34m[\u001b[0m\u001b[0;34m'phone'\u001b[0m\u001b[0;34m]\u001b[0m\u001b[0;34m\u001b[0m\u001b[0;34m\u001b[0m\u001b[0m\n\u001b[0m",
            "\u001b[0;31mKeyError\u001b[0m: 'phone'"
          ]
        }
      ]
    },
    {
      "cell_type": "code",
      "metadata": {
        "id": "6X3CwmXwKEmq",
        "colab": {
          "base_uri": "https://localhost:8080/",
          "height": 35
        },
        "outputId": "b23d3b82-7e0b-48b6-9055-4e6ec3c68874"
      },
      "source": [
        "student.get('name')"
      ],
      "execution_count": null,
      "outputs": [
        {
          "output_type": "execute_result",
          "data": {
            "application/vnd.google.colaboratory.intrinsic+json": {
              "type": "string"
            },
            "text/plain": [
              "'john'"
            ]
          },
          "metadata": {
            "tags": []
          },
          "execution_count": 39
        }
      ]
    },
    {
      "cell_type": "code",
      "metadata": {
        "id": "h9ggwy4pKEpe",
        "colab": {
          "base_uri": "https://localhost:8080/",
          "height": 35
        },
        "outputId": "163140e3-02c6-44d4-9870-d8d01f691121"
      },
      "source": [
        "student.get('phone', 'N/A')   #如果不存在key的话，用get() method可以指定输出值"
      ],
      "execution_count": null,
      "outputs": [
        {
          "output_type": "execute_result",
          "data": {
            "application/vnd.google.colaboratory.intrinsic+json": {
              "type": "string"
            },
            "text/plain": [
              "'N/A'"
            ]
          },
          "metadata": {
            "tags": []
          },
          "execution_count": 40
        }
      ]
    },
    {
      "cell_type": "code",
      "metadata": {
        "id": "ane8uYqqKEr_",
        "colab": {
          "base_uri": "https://localhost:8080/"
        },
        "outputId": "eea21b60-3d8d-4685-fdc2-281675171284"
      },
      "source": [
        "student.update({'name':'jane', 'phone': '3237'})    #update() method更新dict\n",
        "student"
      ],
      "execution_count": null,
      "outputs": [
        {
          "output_type": "execute_result",
          "data": {
            "text/plain": [
              "{'age': 25, 'course': ['math', 'compsci'], 'name': 'jane', 'phone': '3237'}"
            ]
          },
          "metadata": {
            "tags": []
          },
          "execution_count": 41
        }
      ]
    },
    {
      "cell_type": "code",
      "metadata": {
        "id": "bUs5N3WJKFAG"
      },
      "source": [
        "del student['age']    #可以使用del和pop两种方法来删除key"
      ],
      "execution_count": null,
      "outputs": []
    },
    {
      "cell_type": "code",
      "metadata": {
        "id": "YkRzRQ-SKFMH",
        "colab": {
          "base_uri": "https://localhost:8080/",
          "height": 162
        },
        "outputId": "2a03805d-30f1-40a2-e719-308dc4d15f51"
      },
      "source": [
        "age = student.pop('age')"
      ],
      "execution_count": null,
      "outputs": [
        {
          "output_type": "error",
          "ename": "KeyError",
          "evalue": "ignored",
          "traceback": [
            "\u001b[0;31m---------------------------------------------------------------------------\u001b[0m",
            "\u001b[0;31mKeyError\u001b[0m                                  Traceback (most recent call last)",
            "\u001b[0;32m<ipython-input-43-41fab346b7ea>\u001b[0m in \u001b[0;36m<module>\u001b[0;34m()\u001b[0m\n\u001b[0;32m----> 1\u001b[0;31m \u001b[0mage\u001b[0m \u001b[0;34m=\u001b[0m \u001b[0mstudent\u001b[0m\u001b[0;34m.\u001b[0m\u001b[0mpop\u001b[0m\u001b[0;34m(\u001b[0m\u001b[0;34m'age'\u001b[0m\u001b[0;34m)\u001b[0m\u001b[0;34m\u001b[0m\u001b[0;34m\u001b[0m\u001b[0m\n\u001b[0m",
            "\u001b[0;31mKeyError\u001b[0m: 'age'"
          ]
        }
      ]
    },
    {
      "cell_type": "code",
      "metadata": {
        "id": "QxYYWIXdKFKQ",
        "colab": {
          "base_uri": "https://localhost:8080/"
        },
        "outputId": "d53eaf28-cc10-4423-8111-5595a857c89c"
      },
      "source": [
        "for key, value in student.items():\n",
        "  print(key, value)"
      ],
      "execution_count": null,
      "outputs": [
        {
          "output_type": "stream",
          "text": [
            "name jane\n",
            "course ['math', 'compsci']\n",
            "phone 3237\n"
          ],
          "name": "stdout"
        }
      ]
    },
    {
      "cell_type": "code",
      "metadata": {
        "id": "vjtybW0ZKE8c",
        "colab": {
          "base_uri": "https://localhost:8080/"
        },
        "outputId": "c1a03afc-ee05-45e8-9edf-752c857016f3"
      },
      "source": [
        "# 也可以直接更改value\n",
        "student['name'] = 'Dave'\n",
        "student"
      ],
      "execution_count": null,
      "outputs": [
        {
          "output_type": "execute_result",
          "data": {
            "text/plain": [
              "{'course': ['math', 'compsci'], 'name': 'Dave', 'phone': '3237'}"
            ]
          },
          "metadata": {
            "tags": []
          },
          "execution_count": 46
        }
      ]
    },
    {
      "cell_type": "code",
      "metadata": {
        "id": "oPWvPTDQKE6d"
      },
      "source": [
        ""
      ],
      "execution_count": null,
      "outputs": []
    },
    {
      "cell_type": "code",
      "metadata": {
        "id": "idaO34s4KEyJ"
      },
      "source": [
        ""
      ],
      "execution_count": null,
      "outputs": []
    },
    {
      "cell_type": "code",
      "metadata": {
        "id": "SKqo8RdWKEv_"
      },
      "source": [
        ""
      ],
      "execution_count": null,
      "outputs": []
    },
    {
      "cell_type": "code",
      "metadata": {
        "id": "Hu-NPr-UKEft"
      },
      "source": [
        ""
      ],
      "execution_count": null,
      "outputs": []
    },
    {
      "cell_type": "code",
      "metadata": {
        "id": "29O6K7ooKDwb"
      },
      "source": [
        ""
      ],
      "execution_count": null,
      "outputs": []
    }
  ]
}