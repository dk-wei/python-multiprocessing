{
  "nbformat": 4,
  "nbformat_minor": 0,
  "metadata": {
    "colab": {
      "name": "Python Connect to MongoDB.ipynb",
      "provenance": [],
      "authorship_tag": "ABX9TyOcU1OfYVUgAjrcBQTm6WrE",
      "include_colab_link": true
    },
    "kernelspec": {
      "name": "python3",
      "display_name": "Python 3"
    },
    "language_info": {
      "name": "python"
    }
  },
  "cells": [
    {
      "cell_type": "markdown",
      "metadata": {
        "id": "view-in-github",
        "colab_type": "text"
      },
      "source": [
        "<a href=\"https://colab.research.google.com/github/dk-wei/python-tricks/blob/main/Python_Connect_to_MongoDB.ipynb\" target=\"_parent\"><img src=\"https://colab.research.google.com/assets/colab-badge.svg\" alt=\"Open In Colab\"/></a>"
      ]
    },
    {
      "cell_type": "code",
      "execution_count": null,
      "metadata": {
        "id": "g79QZwES2iUE"
      },
      "outputs": [],
      "source": [
        "import pandas as pd\n",
        "import json\n",
        "import csv\n",
        "import matplotlib.pyplot as plt\n",
        "import seaborn as sns\n",
        "import numpy as np\n",
        "import os"
      ]
    },
    {
      "cell_type": "code",
      "source": [
        "import pymongo\n",
        "\n",
        "def connect_db(database):\n",
        "    \n",
        "    db_name = database\n",
        "    db_port = 27017\n",
        "    username = 'xrayuser'\n",
        "    userpw = 'SwXrayOps'\n",
        "    mongo_url = 'xray-prod-mongo-servers-vm-0,xray-prod-mongo-servers-vm-1'\n",
        "    client = pymongo.MongoClient(mongo_url,\n",
        "                                username=username,\n",
        "                                 password=userpw,\n",
        "                                 authSource=db_name,\n",
        "                                 port=db_port,\n",
        "                                 authMechanism='SCRAM-SHA-1')\n",
        "    \n",
        "    db = client[db_name]\n",
        "    return db"
      ],
      "metadata": {
        "id": "mKEvoqrB2kV9"
      },
      "execution_count": null,
      "outputs": []
    },
    {
      "cell_type": "code",
      "source": [
        "db = connect_db('swxray')\n",
        "all_collections = db.list_collection_names()\n",
        "\n",
        "all_collections"
      ],
      "metadata": {
        "id": "7pravhW42mbv"
      },
      "execution_count": null,
      "outputs": []
    }
  ]
}