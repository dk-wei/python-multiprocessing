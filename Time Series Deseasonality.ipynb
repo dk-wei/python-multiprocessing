{
 "cells": [
  {
   "cell_type": "markdown",
   "metadata": {},
   "source": [
    "## Seasonally Adjust a Time Series Dataset\n"
   ]
  },
  {
   "cell_type": "markdown",
   "metadata": {},
   "source": [
    "@Author: DJ Rajdev  \n",
    "@Purpose: deseaon code for TS    \n",
    "@Ref: https://anomaly.io/detect-seasonality-using-fourier-transform-r/index.html"
   ]
  },
  {
   "cell_type": "markdown",
   "metadata": {},
   "source": [
    "**Why Seasonally Adjust Data ?**\n",
    "\n",
    "Many industries experience fluctuations in various metrics based on the time of year. This means that it is not possible to effectively assess performance by comparing data from one time of year to data from another. Furthermore, these seasonal fluctuations can sometimes be so large that they can mask important business trends hiding in the data."
   ]
  },
  {
   "cell_type": "markdown",
   "metadata": {},
   "source": [
    "#### Setup"
   ]
  },
  {
   "cell_type": "code",
   "execution_count": 2,
   "metadata": {
    "ExecuteTime": {
     "end_time": "2020-09-16T04:36:38.342215Z",
     "start_time": "2020-09-16T04:36:36.451837Z"
    }
   },
   "outputs": [],
   "source": [
    "import pandas as pd\n",
    "import numpy as np\n",
    "#import plotnine\n",
    "#from plotnine import *\n",
    "import platform\n",
    "import scipy as sc\n",
    "import statsmodels\n",
    "from statsmodels.tsa.seasonal import seasonal_decompose\n",
    "import os\n",
    "import matplotlib.pyplot as plt "
   ]
  },
  {
   "cell_type": "code",
   "execution_count": 3,
   "metadata": {
    "ExecuteTime": {
     "end_time": "2020-09-16T04:36:38.348932Z",
     "start_time": "2020-09-16T04:36:38.343738Z"
    }
   },
   "outputs": [
    {
     "name": "stdout",
     "output_type": "stream",
     "text": [
      "Last Updated: 2020-09-15 21:36:38.346273\n",
      "Python: 3.6.7\n",
      "pandas: 1.0.3\n",
      "scipy: 1.16.4\n",
      "statsmodels: 0.11.1\n"
     ]
    }
   ],
   "source": [
    "print(\"Last Updated:\", pd.to_datetime('today'))\n",
    "print(\"Python:\", platform.python_version())\n",
    "print(\"pandas:\", pd.__version__)\n",
    "print(\"scipy:\", np.__version__)\n",
    "print(\"statsmodels:\", statsmodels.__version__)\n",
    "#print(\"ggplot:\", plotnine.__version__)"
   ]
  },
  {
   "cell_type": "code",
   "execution_count": 4,
   "metadata": {
    "ExecuteTime": {
     "end_time": "2020-09-16T04:36:39.891487Z",
     "start_time": "2020-09-16T04:36:39.889448Z"
    }
   },
   "outputs": [],
   "source": [
    "dirpath = ''\n",
    "datapath = os.path.join(dirpath, '')"
   ]
  },
  {
   "cell_type": "markdown",
   "metadata": {},
   "source": [
    "for wired deployment"
   ]
  },
  {
   "cell_type": "code",
   "execution_count": 5,
   "metadata": {
    "ExecuteTime": {
     "end_time": "2020-09-16T04:36:40.258817Z",
     "start_time": "2020-09-16T04:36:40.255139Z"
    }
   },
   "outputs": [
    {
     "data": {
      "text/plain": [
       "'/mapr/hadoopProd1/app/hdpiopsdp/ai_xray/telemetry_analysis'"
      ]
     },
     "execution_count": 5,
     "metadata": {},
     "output_type": "execute_result"
    }
   ],
   "source": [
    "pwd"
   ]
  },
  {
   "cell_type": "code",
   "execution_count": 6,
   "metadata": {
    "ExecuteTime": {
     "end_time": "2020-09-16T04:36:40.439338Z",
     "start_time": "2020-09-16T04:36:40.436845Z"
    }
   },
   "outputs": [],
   "source": [
    "fname1 = 'client_trends_april.csv'\n",
    "fname_out = 'clean_'+fname1\n",
    "date_1 = 'sum_date'\n",
    "values = 'total_wired'\n",
    "out_value_name = 'total_wired_clean'"
   ]
  },
  {
   "cell_type": "markdown",
   "metadata": {},
   "source": [
    "### Deseason"
   ]
  },
  {
   "cell_type": "markdown",
   "metadata": {},
   "source": [
    "**read data**"
   ]
  },
  {
   "cell_type": "markdown",
   "metadata": {},
   "source": [
    "remove non standard datetime, and normalize timstamp to start at midnight"
   ]
  },
  {
   "cell_type": "code",
   "execution_count": 7,
   "metadata": {
    "ExecuteTime": {
     "end_time": "2020-09-16T04:36:41.267612Z",
     "start_time": "2020-09-16T04:36:41.265069Z"
    }
   },
   "outputs": [
    {
     "data": {
      "text/plain": [
       "'client_trends_april.csv'"
      ]
     },
     "execution_count": 7,
     "metadata": {},
     "output_type": "execute_result"
    }
   ],
   "source": [
    "os.path.join(datapath, fname1)"
   ]
  },
  {
   "cell_type": "code",
   "execution_count": 8,
   "metadata": {
    "ExecuteTime": {
     "end_time": "2020-09-16T04:36:41.505322Z",
     "start_time": "2020-09-16T04:36:41.492401Z"
    },
    "scrolled": true
   },
   "outputs": [],
   "source": [
    "dat = pd.read_csv(os.path.join(datapath, fname1)) \\\n",
    "        .assign(date = lambda x: pd.to_datetime(x[date_1].str[:-3]).dt.normalize()) \\\n",
    "        .drop(date_1, axis='columns')"
   ]
  },
  {
   "cell_type": "code",
   "execution_count": 9,
   "metadata": {
    "ExecuteTime": {
     "end_time": "2020-09-16T04:36:41.720905Z",
     "start_time": "2020-09-16T04:36:41.718241Z"
    }
   },
   "outputs": [],
   "source": [
    "dat = dat.sort_values(by = 'date')"
   ]
  },
  {
   "cell_type": "code",
   "execution_count": 10,
   "metadata": {
    "ExecuteTime": {
     "end_time": "2020-09-16T04:36:41.994538Z",
     "start_time": "2020-09-16T04:36:41.982958Z"
    }
   },
   "outputs": [
    {
     "data": {
      "text/html": [
       "<div>\n",
       "<style scoped>\n",
       "    .dataframe tbody tr th:only-of-type {\n",
       "        vertical-align: middle;\n",
       "    }\n",
       "\n",
       "    .dataframe tbody tr th {\n",
       "        vertical-align: top;\n",
       "    }\n",
       "\n",
       "    .dataframe thead th {\n",
       "        text-align: right;\n",
       "    }\n",
       "</style>\n",
       "<table border=\"1\" class=\"dataframe\">\n",
       "  <thead>\n",
       "    <tr style=\"text-align: right;\">\n",
       "      <th></th>\n",
       "      <th>total_wireless</th>\n",
       "      <th>total_wired</th>\n",
       "      <th>date</th>\n",
       "    </tr>\n",
       "  </thead>\n",
       "  <tbody>\n",
       "    <tr>\n",
       "      <th>518</th>\n",
       "      <td>571633</td>\n",
       "      <td>1440590</td>\n",
       "      <td>2020-04-21</td>\n",
       "    </tr>\n",
       "    <tr>\n",
       "      <th>519</th>\n",
       "      <td>630578</td>\n",
       "      <td>1617863</td>\n",
       "      <td>2020-04-22</td>\n",
       "    </tr>\n",
       "    <tr>\n",
       "      <th>520</th>\n",
       "      <td>665895</td>\n",
       "      <td>1614675</td>\n",
       "      <td>2020-04-23</td>\n",
       "    </tr>\n",
       "    <tr>\n",
       "      <th>521</th>\n",
       "      <td>678909</td>\n",
       "      <td>1374272</td>\n",
       "      <td>2020-04-24</td>\n",
       "    </tr>\n",
       "    <tr>\n",
       "      <th>522</th>\n",
       "      <td>667535</td>\n",
       "      <td>1416407</td>\n",
       "      <td>2020-04-25</td>\n",
       "    </tr>\n",
       "    <tr>\n",
       "      <th>523</th>\n",
       "      <td>608719</td>\n",
       "      <td>1375960</td>\n",
       "      <td>2020-04-26</td>\n",
       "    </tr>\n",
       "    <tr>\n",
       "      <th>524</th>\n",
       "      <td>430089</td>\n",
       "      <td>1334079</td>\n",
       "      <td>2020-04-27</td>\n",
       "    </tr>\n",
       "    <tr>\n",
       "      <th>525</th>\n",
       "      <td>576923</td>\n",
       "      <td>1375693</td>\n",
       "      <td>2020-04-28</td>\n",
       "    </tr>\n",
       "    <tr>\n",
       "      <th>526</th>\n",
       "      <td>712617</td>\n",
       "      <td>1420030</td>\n",
       "      <td>2020-04-29</td>\n",
       "    </tr>\n",
       "    <tr>\n",
       "      <th>527</th>\n",
       "      <td>655776</td>\n",
       "      <td>1386261</td>\n",
       "      <td>2020-04-30</td>\n",
       "    </tr>\n",
       "    <tr>\n",
       "      <th>528</th>\n",
       "      <td>660630</td>\n",
       "      <td>1380224</td>\n",
       "      <td>2020-05-01</td>\n",
       "    </tr>\n",
       "    <tr>\n",
       "      <th>529</th>\n",
       "      <td>627526</td>\n",
       "      <td>1426870</td>\n",
       "      <td>2020-05-02</td>\n",
       "    </tr>\n",
       "    <tr>\n",
       "      <th>530</th>\n",
       "      <td>471331</td>\n",
       "      <td>1352622</td>\n",
       "      <td>2020-05-03</td>\n",
       "    </tr>\n",
       "    <tr>\n",
       "      <th>531</th>\n",
       "      <td>373488</td>\n",
       "      <td>1331729</td>\n",
       "      <td>2020-05-04</td>\n",
       "    </tr>\n",
       "    <tr>\n",
       "      <th>532</th>\n",
       "      <td>571406</td>\n",
       "      <td>1364420</td>\n",
       "      <td>2020-05-05</td>\n",
       "    </tr>\n",
       "    <tr>\n",
       "      <th>533</th>\n",
       "      <td>655429</td>\n",
       "      <td>1419205</td>\n",
       "      <td>2020-05-06</td>\n",
       "    </tr>\n",
       "    <tr>\n",
       "      <th>534</th>\n",
       "      <td>687530</td>\n",
       "      <td>1419223</td>\n",
       "      <td>2020-05-07</td>\n",
       "    </tr>\n",
       "    <tr>\n",
       "      <th>535</th>\n",
       "      <td>681986</td>\n",
       "      <td>1412536</td>\n",
       "      <td>2020-05-08</td>\n",
       "    </tr>\n",
       "    <tr>\n",
       "      <th>536</th>\n",
       "      <td>669076</td>\n",
       "      <td>1399905</td>\n",
       "      <td>2020-05-09</td>\n",
       "    </tr>\n",
       "    <tr>\n",
       "      <th>537</th>\n",
       "      <td>583879</td>\n",
       "      <td>1415142</td>\n",
       "      <td>2020-05-10</td>\n",
       "    </tr>\n",
       "  </tbody>\n",
       "</table>\n",
       "</div>"
      ],
      "text/plain": [
       "     total_wireless  total_wired       date\n",
       "518          571633      1440590 2020-04-21\n",
       "519          630578      1617863 2020-04-22\n",
       "520          665895      1614675 2020-04-23\n",
       "521          678909      1374272 2020-04-24\n",
       "522          667535      1416407 2020-04-25\n",
       "523          608719      1375960 2020-04-26\n",
       "524          430089      1334079 2020-04-27\n",
       "525          576923      1375693 2020-04-28\n",
       "526          712617      1420030 2020-04-29\n",
       "527          655776      1386261 2020-04-30\n",
       "528          660630      1380224 2020-05-01\n",
       "529          627526      1426870 2020-05-02\n",
       "530          471331      1352622 2020-05-03\n",
       "531          373488      1331729 2020-05-04\n",
       "532          571406      1364420 2020-05-05\n",
       "533          655429      1419205 2020-05-06\n",
       "534          687530      1419223 2020-05-07\n",
       "535          681986      1412536 2020-05-08\n",
       "536          669076      1399905 2020-05-09\n",
       "537          583879      1415142 2020-05-10"
      ]
     },
     "execution_count": 10,
     "metadata": {},
     "output_type": "execute_result"
    }
   ],
   "source": [
    "dat.tail(20)"
   ]
  },
  {
   "cell_type": "code",
   "execution_count": 11,
   "metadata": {
    "ExecuteTime": {
     "end_time": "2020-09-16T04:36:42.224382Z",
     "start_time": "2020-09-16T04:36:42.221024Z"
    }
   },
   "outputs": [
    {
     "data": {
      "text/plain": [
       "total_wireless             int64\n",
       "total_wired                int64\n",
       "date              datetime64[ns]\n",
       "dtype: object"
      ]
     },
     "execution_count": 11,
     "metadata": {},
     "output_type": "execute_result"
    }
   ],
   "source": [
    "dat.dtypes"
   ]
  },
  {
   "cell_type": "markdown",
   "metadata": {},
   "source": [
    "**fix missing**"
   ]
  },
  {
   "cell_type": "code",
   "execution_count": 12,
   "metadata": {
    "ExecuteTime": {
     "end_time": "2020-09-16T04:36:42.761974Z",
     "start_time": "2020-09-16T04:36:42.755017Z"
    }
   },
   "outputs": [],
   "source": [
    "dat = dat.set_index(pd.DatetimeIndex(dat['date'])) \\\n",
    "        .sort_index(axis = 'columns') \\\n",
    "        .resample('D').ffill()"
   ]
  },
  {
   "cell_type": "code",
   "execution_count": 13,
   "metadata": {
    "ExecuteTime": {
     "end_time": "2020-09-16T04:36:43.024941Z",
     "start_time": "2020-09-16T04:36:43.019779Z"
    }
   },
   "outputs": [
    {
     "data": {
      "text/html": [
       "<div>\n",
       "<style scoped>\n",
       "    .dataframe tbody tr th:only-of-type {\n",
       "        vertical-align: middle;\n",
       "    }\n",
       "\n",
       "    .dataframe tbody tr th {\n",
       "        vertical-align: top;\n",
       "    }\n",
       "\n",
       "    .dataframe thead th {\n",
       "        text-align: right;\n",
       "    }\n",
       "</style>\n",
       "<table border=\"1\" class=\"dataframe\">\n",
       "  <thead>\n",
       "    <tr style=\"text-align: right;\">\n",
       "      <th></th>\n",
       "      <th>date</th>\n",
       "      <th>total_wired</th>\n",
       "      <th>total_wireless</th>\n",
       "    </tr>\n",
       "    <tr>\n",
       "      <th>date</th>\n",
       "      <th></th>\n",
       "      <th></th>\n",
       "      <th></th>\n",
       "    </tr>\n",
       "  </thead>\n",
       "  <tbody>\n",
       "    <tr>\n",
       "      <th>2018-11-20</th>\n",
       "      <td>2018-11-20</td>\n",
       "      <td>541652</td>\n",
       "      <td>293646</td>\n",
       "    </tr>\n",
       "    <tr>\n",
       "      <th>2018-11-21</th>\n",
       "      <td>2018-11-21</td>\n",
       "      <td>541652</td>\n",
       "      <td>293646</td>\n",
       "    </tr>\n",
       "    <tr>\n",
       "      <th>2018-11-22</th>\n",
       "      <td>2018-11-22</td>\n",
       "      <td>710415</td>\n",
       "      <td>332761</td>\n",
       "    </tr>\n",
       "    <tr>\n",
       "      <th>2018-11-23</th>\n",
       "      <td>2018-11-23</td>\n",
       "      <td>682951</td>\n",
       "      <td>281098</td>\n",
       "    </tr>\n",
       "    <tr>\n",
       "      <th>2018-11-24</th>\n",
       "      <td>2018-11-24</td>\n",
       "      <td>680712</td>\n",
       "      <td>227700</td>\n",
       "    </tr>\n",
       "  </tbody>\n",
       "</table>\n",
       "</div>"
      ],
      "text/plain": [
       "                 date  total_wired  total_wireless\n",
       "date                                              \n",
       "2018-11-20 2018-11-20       541652          293646\n",
       "2018-11-21 2018-11-21       541652          293646\n",
       "2018-11-22 2018-11-22       710415          332761\n",
       "2018-11-23 2018-11-23       682951          281098\n",
       "2018-11-24 2018-11-24       680712          227700"
      ]
     },
     "execution_count": 13,
     "metadata": {},
     "output_type": "execute_result"
    }
   ],
   "source": [
    "dat.head()"
   ]
  },
  {
   "cell_type": "code",
   "execution_count": 14,
   "metadata": {
    "ExecuteTime": {
     "end_time": "2020-09-16T04:36:43.703795Z",
     "start_time": "2020-09-16T04:36:43.408966Z"
    }
   },
   "outputs": [
    {
     "data": {
      "text/plain": [
       "<matplotlib.axes._subplots.AxesSubplot at 0x7f221f55f630>"
      ]
     },
     "execution_count": 14,
     "metadata": {},
     "output_type": "execute_result"
    },
    {
     "data": {
      "image/png": "[encoded data removed]",
      "text/plain": [
       "<Figure size 1080x720 with 1 Axes>"
      ]
     },
     "metadata": {},
     "output_type": "display_data"
    }
   ],
   "source": [
    "dat.total_wired.plot(figsize=(15, 10))"
   ]
  },
  {
   "cell_type": "code",
   "execution_count": null,
   "metadata": {},
   "outputs": [],
   "source": []
  },
  {
   "cell_type": "markdown",
   "metadata": {},
   "source": [
    "**detect frequencies / seasonality**"
   ]
  },
  {
   "cell_type": "code",
   "execution_count": 15,
   "metadata": {
    "ExecuteTime": {
     "end_time": "2020-09-16T04:36:44.287815Z",
     "start_time": "2020-09-16T04:36:44.285607Z"
    }
   },
   "outputs": [],
   "source": [
    "dat_ts = dat[values]"
   ]
  },
  {
   "cell_type": "code",
   "execution_count": 16,
   "metadata": {
    "ExecuteTime": {
     "end_time": "2020-09-16T04:36:44.475642Z",
     "start_time": "2020-09-16T04:36:44.473092Z"
    }
   },
   "outputs": [],
   "source": [
    "# Estimate power spectral density using a periodogram.\n",
    "freq, spec = sc.signal.periodogram(dat_ts)\n",
    "\n",
    "#freq, spec"
   ]
  },
  {
   "cell_type": "code",
   "execution_count": 17,
   "metadata": {
    "ExecuteTime": {
     "end_time": "2020-09-16T04:36:44.697687Z",
     "start_time": "2020-09-16T04:36:44.693011Z"
    }
   },
   "outputs": [],
   "source": [
    "freq_df = pd.DataFrame({'freq': freq, \n",
    "                        'spec': spec}) \\\n",
    "            .sort_values(by = 'spec', axis = 'index', ascending=False) \\\n",
    "            .head(10) \\\n",
    "            .assign(days = lambda x: (1/x['freq']).astype('int'))"
   ]
  },
  {
   "cell_type": "markdown",
   "metadata": {},
   "source": [
    "seasonality candidates (days = 1 / freq)\n",
    "\n",
    "check all possible days:"
   ]
  },
  {
   "cell_type": "code",
   "execution_count": 18,
   "metadata": {
    "ExecuteTime": {
     "end_time": "2020-09-16T04:36:45.162800Z",
     "start_time": "2020-09-16T04:36:45.157100Z"
    },
    "scrolled": true
   },
   "outputs": [
    {
     "data": {
      "text/html": [
       "<div>\n",
       "<style scoped>\n",
       "    .dataframe tbody tr th:only-of-type {\n",
       "        vertical-align: middle;\n",
       "    }\n",
       "\n",
       "    .dataframe tbody tr th {\n",
       "        vertical-align: top;\n",
       "    }\n",
       "\n",
       "    .dataframe thead th {\n",
       "        text-align: right;\n",
       "    }\n",
       "</style>\n",
       "<table border=\"1\" class=\"dataframe\">\n",
       "  <thead>\n",
       "    <tr style=\"text-align: right;\">\n",
       "      <th></th>\n",
       "      <th>freq</th>\n",
       "      <th>spec</th>\n",
       "      <th>days</th>\n",
       "    </tr>\n",
       "  </thead>\n",
       "  <tbody>\n",
       "    <tr>\n",
       "      <th>1</th>\n",
       "      <td>0.001859</td>\n",
       "      <td>8.016001e+13</td>\n",
       "      <td>538</td>\n",
       "    </tr>\n",
       "    <tr>\n",
       "      <th>3</th>\n",
       "      <td>0.005576</td>\n",
       "      <td>2.889832e+13</td>\n",
       "      <td>179</td>\n",
       "    </tr>\n",
       "    <tr>\n",
       "      <th>2</th>\n",
       "      <td>0.003717</td>\n",
       "      <td>1.398629e+13</td>\n",
       "      <td>269</td>\n",
       "    </tr>\n",
       "    <tr>\n",
       "      <th>8</th>\n",
       "      <td>0.014870</td>\n",
       "      <td>1.351850e+13</td>\n",
       "      <td>67</td>\n",
       "    </tr>\n",
       "    <tr>\n",
       "      <th>7</th>\n",
       "      <td>0.013011</td>\n",
       "      <td>1.262058e+13</td>\n",
       "      <td>76</td>\n",
       "    </tr>\n",
       "    <tr>\n",
       "      <th>5</th>\n",
       "      <td>0.009294</td>\n",
       "      <td>1.230235e+13</td>\n",
       "      <td>107</td>\n",
       "    </tr>\n",
       "    <tr>\n",
       "      <th>6</th>\n",
       "      <td>0.011152</td>\n",
       "      <td>1.115920e+13</td>\n",
       "      <td>89</td>\n",
       "    </tr>\n",
       "    <tr>\n",
       "      <th>4</th>\n",
       "      <td>0.007435</td>\n",
       "      <td>1.033722e+13</td>\n",
       "      <td>134</td>\n",
       "    </tr>\n",
       "    <tr>\n",
       "      <th>11</th>\n",
       "      <td>0.020446</td>\n",
       "      <td>7.975614e+12</td>\n",
       "      <td>48</td>\n",
       "    </tr>\n",
       "    <tr>\n",
       "      <th>9</th>\n",
       "      <td>0.016729</td>\n",
       "      <td>6.829338e+12</td>\n",
       "      <td>59</td>\n",
       "    </tr>\n",
       "  </tbody>\n",
       "</table>\n",
       "</div>"
      ],
      "text/plain": [
       "        freq          spec  days\n",
       "1   0.001859  8.016001e+13   538\n",
       "3   0.005576  2.889832e+13   179\n",
       "2   0.003717  1.398629e+13   269\n",
       "8   0.014870  1.351850e+13    67\n",
       "7   0.013011  1.262058e+13    76\n",
       "5   0.009294  1.230235e+13   107\n",
       "6   0.011152  1.115920e+13    89\n",
       "4   0.007435  1.033722e+13   134\n",
       "11  0.020446  7.975614e+12    48\n",
       "9   0.016729  6.829338e+12    59"
      ]
     },
     "execution_count": 18,
     "metadata": {},
     "output_type": "execute_result"
    }
   ],
   "source": [
    "freq_df"
   ]
  },
  {
   "cell_type": "markdown",
   "metadata": {},
   "source": [
    "> In signal processing, a periodogram is an estimate of the spectral density of a signal.\n",
    "\n",
    "The periodogram shows the “power” of each possible frequency, and we can clearly see spikes at around frequency 0.015 Hz (~66 days)"
   ]
  },
  {
   "cell_type": "markdown",
   "metadata": {},
   "source": [
    "**get trend component**"
   ]
  },
  {
   "cell_type": "markdown",
   "metadata": {},
   "source": [
    "which period to use?"
   ]
  },
  {
   "cell_type": "code",
   "execution_count": 19,
   "metadata": {
    "ExecuteTime": {
     "end_time": "2020-09-16T04:36:46.446291Z",
     "start_time": "2020-09-16T04:36:46.444434Z"
    }
   },
   "outputs": [],
   "source": [
    "idx = 0\n",
    "p = freq_df['days'].iloc[idx]"
   ]
  },
  {
   "cell_type": "code",
   "execution_count": 20,
   "metadata": {
    "ExecuteTime": {
     "end_time": "2020-09-16T04:36:46.766443Z",
     "start_time": "2020-09-16T04:36:46.764166Z"
    }
   },
   "outputs": [
    {
     "data": {
      "text/plain": [
       "538"
      ]
     },
     "execution_count": 20,
     "metadata": {},
     "output_type": "execute_result"
    }
   ],
   "source": [
    "# largest period/season\n",
    "p"
   ]
  },
  {
   "cell_type": "code",
   "execution_count": 21,
   "metadata": {
    "ExecuteTime": {
     "end_time": "2020-09-16T04:36:47.053758Z",
     "start_time": "2020-09-16T04:36:47.051461Z"
    }
   },
   "outputs": [
    {
     "data": {
      "text/plain": [
       "(538, 3)"
      ]
     },
     "execution_count": 21,
     "metadata": {},
     "output_type": "execute_result"
    }
   ],
   "source": [
    "dat.shape"
   ]
  },
  {
   "cell_type": "markdown",
   "metadata": {},
   "source": [
    "want seasonality less than but closest to (RATIO * Dataframe size)         \n",
    "freq_df shows some sort of **bi-monthly (~60 days)** periodicity"
   ]
  },
  {
   "cell_type": "code",
   "execution_count": 22,
   "metadata": {
    "ExecuteTime": {
     "end_time": "2020-09-16T04:36:47.547347Z",
     "start_time": "2020-09-16T04:36:47.544710Z"
    }
   },
   "outputs": [],
   "source": [
    "RATIO = 0.3\n",
    "\n",
    "#while p > RATIO * dat.shape[0]:\n",
    "while p > RATIO * 365:\n",
    "    idx = idx + 1\n",
    "    p = freq_df['days'].iloc[idx]"
   ]
  },
  {
   "cell_type": "code",
   "execution_count": 23,
   "metadata": {
    "ExecuteTime": {
     "end_time": "2020-09-16T04:36:47.940726Z",
     "start_time": "2020-09-16T04:36:47.938591Z"
    }
   },
   "outputs": [
    {
     "data": {
      "text/plain": [
       "67"
      ]
     },
     "execution_count": 23,
     "metadata": {},
     "output_type": "execute_result"
    }
   ],
   "source": [
    "p"
   ]
  },
  {
   "cell_type": "code",
   "execution_count": 24,
   "metadata": {
    "ExecuteTime": {
     "end_time": "2020-09-16T04:36:48.351106Z",
     "start_time": "2020-09-16T04:36:48.347410Z"
    }
   },
   "outputs": [
    {
     "data": {
      "text/plain": [
       "date\n",
       "2018-11-20     541652\n",
       "2018-11-21     541652\n",
       "2018-11-22     710415\n",
       "2018-11-23     682951\n",
       "2018-11-24     680712\n",
       "               ...   \n",
       "2020-05-06    1419205\n",
       "2020-05-07    1419223\n",
       "2020-05-08    1412536\n",
       "2020-05-09    1399905\n",
       "2020-05-10    1415142\n",
       "Freq: D, Name: total_wired, Length: 538, dtype: int64"
      ]
     },
     "execution_count": 24,
     "metadata": {},
     "output_type": "execute_result"
    }
   ],
   "source": [
    "dat_ts"
   ]
  },
  {
   "cell_type": "code",
   "execution_count": 25,
   "metadata": {
    "ExecuteTime": {
     "end_time": "2020-09-16T04:36:48.752826Z",
     "start_time": "2020-09-16T04:36:48.748715Z"
    }
   },
   "outputs": [],
   "source": [
    "result = seasonal_decompose(dat_ts, model = 'additive', period = p)"
   ]
  },
  {
   "cell_type": "code",
   "execution_count": 26,
   "metadata": {
    "ExecuteTime": {
     "end_time": "2020-09-16T04:36:49.926575Z",
     "start_time": "2020-09-16T04:36:49.154651Z"
    }
   },
   "outputs": [
    {
     "data": {
      "image/png": "[encoded data removed]",
      "text/plain": [
       "<Figure size 432x288 with 4 Axes>"
      ]
     },
     "execution_count": 26,
     "metadata": {},
     "output_type": "execute_result"
    },
    {
     "data": {
      "image/png": "[encoded data removed]",
      "text/plain": [
       "<Figure size 432x288 with 4 Axes>"
      ]
     },
     "metadata": {},
     "output_type": "display_data"
    }
   ],
   "source": [
    "result.plot()"
   ]
  },
  {
   "cell_type": "code",
   "execution_count": null,
   "metadata": {},
   "outputs": [],
   "source": []
  },
  {
   "cell_type": "markdown",
   "metadata": {},
   "source": [
    "### Write back and fill gaps"
   ]
  },
  {
   "cell_type": "code",
   "execution_count": 27,
   "metadata": {
    "ExecuteTime": {
     "end_time": "2020-09-16T04:36:50.061897Z",
     "start_time": "2020-09-16T04:36:50.057302Z"
    }
   },
   "outputs": [],
   "source": [
    "result_df = pd.DataFrame({out_value_name : result.trend,\n",
    "                          values : result.observed,\n",
    "                          'Seasonal_discard' : result.seasonal,\n",
    "                          'Residue_discard' : result.resid\n",
    "                         }) \\\n",
    "            .reset_index()"
   ]
  },
  {
   "cell_type": "code",
   "execution_count": 28,
   "metadata": {
    "ExecuteTime": {
     "end_time": "2020-09-16T04:36:50.345188Z",
     "start_time": "2020-09-16T04:36:50.336728Z"
    }
   },
   "outputs": [
    {
     "data": {
      "text/html": [
       "<div>\n",
       "<style scoped>\n",
       "    .dataframe tbody tr th:only-of-type {\n",
       "        vertical-align: middle;\n",
       "    }\n",
       "\n",
       "    .dataframe tbody tr th {\n",
       "        vertical-align: top;\n",
       "    }\n",
       "\n",
       "    .dataframe thead th {\n",
       "        text-align: right;\n",
       "    }\n",
       "</style>\n",
       "<table border=\"1\" class=\"dataframe\">\n",
       "  <thead>\n",
       "    <tr style=\"text-align: right;\">\n",
       "      <th></th>\n",
       "      <th>date</th>\n",
       "      <th>total_wired_clean</th>\n",
       "      <th>total_wired</th>\n",
       "      <th>Seasonal_discard</th>\n",
       "      <th>Residue_discard</th>\n",
       "    </tr>\n",
       "  </thead>\n",
       "  <tbody>\n",
       "    <tr>\n",
       "      <th>0</th>\n",
       "      <td>2018-11-20</td>\n",
       "      <td>NaN</td>\n",
       "      <td>541652.0</td>\n",
       "      <td>-238427.628222</td>\n",
       "      <td>NaN</td>\n",
       "    </tr>\n",
       "    <tr>\n",
       "      <th>1</th>\n",
       "      <td>2018-11-21</td>\n",
       "      <td>NaN</td>\n",
       "      <td>541652.0</td>\n",
       "      <td>-262835.220973</td>\n",
       "      <td>NaN</td>\n",
       "    </tr>\n",
       "    <tr>\n",
       "      <th>2</th>\n",
       "      <td>2018-11-22</td>\n",
       "      <td>NaN</td>\n",
       "      <td>710415.0</td>\n",
       "      <td>-185274.719907</td>\n",
       "      <td>NaN</td>\n",
       "    </tr>\n",
       "    <tr>\n",
       "      <th>3</th>\n",
       "      <td>2018-11-23</td>\n",
       "      <td>NaN</td>\n",
       "      <td>682951.0</td>\n",
       "      <td>-149930.794533</td>\n",
       "      <td>NaN</td>\n",
       "    </tr>\n",
       "    <tr>\n",
       "      <th>4</th>\n",
       "      <td>2018-11-24</td>\n",
       "      <td>NaN</td>\n",
       "      <td>680712.0</td>\n",
       "      <td>73811.412290</td>\n",
       "      <td>NaN</td>\n",
       "    </tr>\n",
       "    <tr>\n",
       "      <th>...</th>\n",
       "      <td>...</td>\n",
       "      <td>...</td>\n",
       "      <td>...</td>\n",
       "      <td>...</td>\n",
       "      <td>...</td>\n",
       "    </tr>\n",
       "    <tr>\n",
       "      <th>533</th>\n",
       "      <td>2020-05-06</td>\n",
       "      <td>NaN</td>\n",
       "      <td>1419205.0</td>\n",
       "      <td>-394338.372359</td>\n",
       "      <td>NaN</td>\n",
       "    </tr>\n",
       "    <tr>\n",
       "      <th>534</th>\n",
       "      <td>2020-05-07</td>\n",
       "      <td>NaN</td>\n",
       "      <td>1419223.0</td>\n",
       "      <td>-348793.242295</td>\n",
       "      <td>NaN</td>\n",
       "    </tr>\n",
       "    <tr>\n",
       "      <th>535</th>\n",
       "      <td>2020-05-08</td>\n",
       "      <td>NaN</td>\n",
       "      <td>1412536.0</td>\n",
       "      <td>-224887.730568</td>\n",
       "      <td>NaN</td>\n",
       "    </tr>\n",
       "    <tr>\n",
       "      <th>536</th>\n",
       "      <td>2020-05-09</td>\n",
       "      <td>NaN</td>\n",
       "      <td>1399905.0</td>\n",
       "      <td>-238427.628222</td>\n",
       "      <td>NaN</td>\n",
       "    </tr>\n",
       "    <tr>\n",
       "      <th>537</th>\n",
       "      <td>2020-05-10</td>\n",
       "      <td>NaN</td>\n",
       "      <td>1415142.0</td>\n",
       "      <td>-262835.220973</td>\n",
       "      <td>NaN</td>\n",
       "    </tr>\n",
       "  </tbody>\n",
       "</table>\n",
       "<p>538 rows × 5 columns</p>\n",
       "</div>"
      ],
      "text/plain": [
       "          date  total_wired_clean  total_wired  Seasonal_discard  \\\n",
       "0   2018-11-20                NaN     541652.0    -238427.628222   \n",
       "1   2018-11-21                NaN     541652.0    -262835.220973   \n",
       "2   2018-11-22                NaN     710415.0    -185274.719907   \n",
       "3   2018-11-23                NaN     682951.0    -149930.794533   \n",
       "4   2018-11-24                NaN     680712.0      73811.412290   \n",
       "..         ...                ...          ...               ...   \n",
       "533 2020-05-06                NaN    1419205.0    -394338.372359   \n",
       "534 2020-05-07                NaN    1419223.0    -348793.242295   \n",
       "535 2020-05-08                NaN    1412536.0    -224887.730568   \n",
       "536 2020-05-09                NaN    1399905.0    -238427.628222   \n",
       "537 2020-05-10                NaN    1415142.0    -262835.220973   \n",
       "\n",
       "     Residue_discard  \n",
       "0                NaN  \n",
       "1                NaN  \n",
       "2                NaN  \n",
       "3                NaN  \n",
       "4                NaN  \n",
       "..               ...  \n",
       "533              NaN  \n",
       "534              NaN  \n",
       "535              NaN  \n",
       "536              NaN  \n",
       "537              NaN  \n",
       "\n",
       "[538 rows x 5 columns]"
      ]
     },
     "execution_count": 28,
     "metadata": {},
     "output_type": "execute_result"
    }
   ],
   "source": [
    "result_df"
   ]
  },
  {
   "cell_type": "markdown",
   "metadata": {},
   "source": [
    "**write data to disk**"
   ]
  },
  {
   "cell_type": "code",
   "execution_count": 29,
   "metadata": {
    "ExecuteTime": {
     "end_time": "2020-09-16T04:36:51.227043Z",
     "start_time": "2020-09-16T04:36:51.205486Z"
    }
   },
   "outputs": [],
   "source": [
    "result_df.to_csv(os.path.join(datapath, fname_out), index = False)"
   ]
  },
  {
   "cell_type": "code",
   "execution_count": null,
   "metadata": {},
   "outputs": [],
   "source": []
  }
 ],
 "metadata": {
  "kernelspec": {
   "display_name": "Python 3",
   "language": "python",
   "name": "python3"
  },
  "language_info": {
   "codemirror_mode": {
    "name": "ipython",
    "version": 3
   },
   "file_extension": ".py",
   "mimetype": "text/x-python",
   "name": "python",
   "nbconvert_exporter": "python",
   "pygments_lexer": "ipython3",
   "version": "3.7.4"
  },
  "toc": {
   "base_numbering": 1,
   "nav_menu": {},
   "number_sections": true,
   "sideBar": true,
   "skip_h1_title": false,
   "title_cell": "Table of Contents",
   "title_sidebar": "Contents",
   "toc_cell": false,
   "toc_position": {},
   "toc_section_display": true,
   "toc_window_display": false
  }
 },
 "nbformat": 4,
 "nbformat_minor": 4
}
