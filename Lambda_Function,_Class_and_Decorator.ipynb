{
  "nbformat": 4,
  "nbformat_minor": 0,
  "metadata": {
    "colab": {
      "name": "Lambda Function, Class and Decorator.ipynb",
      "provenance": [],
      "collapsed_sections": [],
      "toc_visible": true,
      "authorship_tag": "ABX9TyMFkq3qZ91KFguA9s0KqGg4",
      "include_colab_link": true
    },
    "kernelspec": {
      "name": "python3",
      "display_name": "Python 3"
    },
    "language_info": {
      "name": "python"
    }
  },
  "cells": [
    {
      "cell_type": "markdown",
      "metadata": {
        "id": "view-in-github",
        "colab_type": "text"
      },
      "source": [
        "<a href=\"https://colab.research.google.com/github/dk-wei/python-tricks/blob/main/Lambda_Function%2C_Class_and_Decorator.ipynb\" target=\"_parent\"><img src=\"https://colab.research.google.com/assets/colab-badge.svg\" alt=\"Open In Colab\"/></a>"
      ]
    },
    {
      "cell_type": "markdown",
      "metadata": {
        "id": "JHI0F3YSwmJ9"
      },
      "source": [
        "# Lambda Funciton"
      ]
    },
    {
      "cell_type": "code",
      "metadata": {
        "id": "8Pez7hsAiqUi"
      },
      "source": [
        "def add(x, y):\n",
        "  return x+y\n",
        "\n",
        "add2 = lambda x, y: x+y"
      ],
      "execution_count": 1,
      "outputs": []
    },
    {
      "cell_type": "code",
      "metadata": {
        "colab": {
          "base_uri": "https://localhost:8080/"
        },
        "id": "kOUJze2ai2aR",
        "outputId": "59658a1e-f4b0-41ef-f3ac-bd17b9af6b39"
      },
      "source": [
        "list(filter(lambda x: x%2==0, [1,2,3,4]))"
      ],
      "execution_count": 2,
      "outputs": [
        {
          "output_type": "execute_result",
          "data": {
            "text/plain": [
              "[2, 4]"
            ]
          },
          "metadata": {},
          "execution_count": 2
        }
      ]
    },
    {
      "cell_type": "code",
      "metadata": {
        "id": "JwD96q88oZWf"
      },
      "source": [
        ""
      ],
      "execution_count": 2,
      "outputs": []
    },
    {
      "cell_type": "markdown",
      "metadata": {
        "id": "43s7ftbTHXKs"
      },
      "source": [
        "# Define a simple `Class` object\n",
        "\n",
        "参考：https://www.youtube.com/watch?v=JeznW_7DlB0"
      ]
    },
    {
      "cell_type": "markdown",
      "metadata": {
        "id": "jD4RgQltHZwF"
      },
      "source": [
        "很多时候你不需要什么定义instance，inheritance乱七八糟的，只是想安安静静organize all your functions/modules in a script，而不是把所有的funcitons放在那儿，直接用staticmethod就行了, 简单粗暴"
      ]
    },
    {
      "cell_type": "code",
      "metadata": {
        "id": "BdYFUFuWHUJA"
      },
      "source": [
        "class Math():\n",
        "\n",
        "  @staticmethod\n",
        "  def add5(x):\n",
        "    return x + 5\n",
        "  \n",
        "  @staticmethod\n",
        "  def minus5(x):\n",
        "    return x - 5\n",
        "\n",
        "  @staticmethod\n",
        "  def pr(x):\n",
        "    print(x)\n",
        "\n",
        "class Manipulate():\n",
        "  \n",
        "  @staticmethod\n",
        "  def make_big(x):\n",
        "    return x.upper()\n",
        "  "
      ],
      "execution_count": 66,
      "outputs": []
    },
    {
      "cell_type": "code",
      "metadata": {
        "colab": {
          "base_uri": "https://localhost:8080/"
        },
        "id": "Zw91BBgmH_V_",
        "outputId": "7c487d01-8d92-4c17-89bc-b8aee3b369a8"
      },
      "source": [
        "Math.add5(6)"
      ],
      "execution_count": 67,
      "outputs": [
        {
          "output_type": "execute_result",
          "data": {
            "text/plain": [
              "11"
            ]
          },
          "metadata": {},
          "execution_count": 67
        }
      ]
    },
    {
      "cell_type": "code",
      "metadata": {
        "colab": {
          "base_uri": "https://localhost:8080/",
          "height": 35
        },
        "id": "rZ-WDYHpIdBz",
        "outputId": "0eff65e3-dc56-4f95-9c21-276eeed5180e"
      },
      "source": [
        "Manipulate.make_big('hahahaha')"
      ],
      "execution_count": 68,
      "outputs": [
        {
          "output_type": "execute_result",
          "data": {
            "application/vnd.google.colaboratory.intrinsic+json": {
              "type": "string"
            },
            "text/plain": [
              "'HAHAHAHA'"
            ]
          },
          "metadata": {},
          "execution_count": 68
        }
      ]
    },
    {
      "cell_type": "markdown",
      "metadata": {
        "id": "uH13ueuQ44mq"
      },
      "source": [
        "# Define a complex `Class` object\n",
        "\n",
        "参考：https://www.youtube.com/watch?v=JeznW_7DlB0"
      ]
    },
    {
      "cell_type": "code",
      "metadata": {
        "id": "a3hTOXdRkk3i"
      },
      "source": [
        "# define a Employee class object\n",
        "class Employee():\n",
        "  \n",
        "  # class attributes / global attributes, it doesnt change for any specific case\n",
        "  # 无论定义什么instance都会具有这个attribute，也就是说所有的employee默认都是American\n",
        "  nationality = 'American'\n",
        "  number_of_ppl = 0\n",
        "\n",
        "  # initial your class as soon as you create a class\n",
        "  def __init__(self, name, age):\n",
        "\n",
        "    # create some attributes for our Employee class\n",
        "    # 我们需要给这个Employee 姓名，年纪等等attributes\n",
        "    self.name = name\n",
        "    self.age = age\n",
        "\n",
        "    # 每次都会call这个add_person\n",
        "    Employee.add_person()\n",
        "\n",
        "  # method, 也就是定义出来的class project能干嘛\n",
        "  def say_my_name(self):\n",
        "    print(self.name)\n",
        "    \n",
        "  # define date of birth method\n",
        "  def year_of_birth(self, current_year):\n",
        "    return current_year-self.age\n",
        "\n",
        "  # projected age method\n",
        "  def project_age(self, years = 5):\n",
        "    return years - self.age\n",
        "  \n",
        "  @classmethod\n",
        "  def number_of_ppl_(cls):\n",
        "    return cls.number_of_ppl\n",
        "\n",
        "  @classmethod\n",
        "  def add_person(cls):\n",
        "    cls.number_of_ppl += 1\n",
        "\n",
        "class Company():\n",
        "\n",
        "  def __init__(self, name, max_employee):\n",
        "    self.name = name\n",
        "    self.max_employee = max_employee\n",
        "    self.employees = []  \n",
        "\n",
        "  def add_employee(self, employee):\n",
        "    if len(self.employees) < self.max_employee:\n",
        "      self.employees.append(employee)\n",
        "      return True\n",
        "    return False\n",
        "\n",
        "  def get_average_age(self):\n",
        "    val = 0\n",
        "    for emp in self.employees:\n",
        "      val += emp.age\n",
        "    return val / len(self.employees)\n",
        "\n",
        "  def show_employee(self):\n",
        "    return [(_.name, _.age) for _ in self.employees]\n"
      ],
      "execution_count": 46,
      "outputs": []
    },
    {
      "cell_type": "markdown",
      "metadata": {
        "id": "C_LLyh6j_iuP"
      },
      "source": [
        "## Define a employee instance"
      ]
    },
    {
      "cell_type": "code",
      "metadata": {
        "colab": {
          "base_uri": "https://localhost:8080/"
        },
        "id": "_L3TSygCkky3",
        "outputId": "3db1c389-1843-4124-a4cd-94ee3da294dc"
      },
      "source": [
        "dave = Employee('dave', 12)\n",
        "print(type(dave))"
      ],
      "execution_count": 47,
      "outputs": [
        {
          "output_type": "stream",
          "name": "stdout",
          "text": [
            "<class '__main__.Employee'>\n"
          ]
        }
      ]
    },
    {
      "cell_type": "code",
      "metadata": {
        "colab": {
          "base_uri": "https://localhost:8080/",
          "height": 35
        },
        "id": "9oWoJiZ9xeLL",
        "outputId": "33c463eb-c38f-48b6-db61-6e4347569696"
      },
      "source": [
        "dave.name"
      ],
      "execution_count": 48,
      "outputs": [
        {
          "output_type": "execute_result",
          "data": {
            "application/vnd.google.colaboratory.intrinsic+json": {
              "type": "string"
            },
            "text/plain": [
              "'dave'"
            ]
          },
          "metadata": {},
          "execution_count": 48
        }
      ]
    },
    {
      "cell_type": "code",
      "metadata": {
        "colab": {
          "base_uri": "https://localhost:8080/"
        },
        "id": "2DOaEF7Tkkp5",
        "outputId": "1fec3d1e-6dc5-4827-c5c1-05a62278e35b"
      },
      "source": [
        "dave.year_of_birth(2021)"
      ],
      "execution_count": 49,
      "outputs": [
        {
          "output_type": "execute_result",
          "data": {
            "text/plain": [
              "2009"
            ]
          },
          "metadata": {},
          "execution_count": 49
        }
      ]
    },
    {
      "cell_type": "code",
      "metadata": {
        "colab": {
          "base_uri": "https://localhost:8080/"
        },
        "id": "QbxlnSb3kkj0",
        "outputId": "f9d43eee-f4bb-4e0f-fdd1-85e8675fae69"
      },
      "source": [
        "dave.project_age(2020)"
      ],
      "execution_count": 50,
      "outputs": [
        {
          "output_type": "execute_result",
          "data": {
            "text/plain": [
              "2008"
            ]
          },
          "metadata": {},
          "execution_count": 50
        }
      ]
    },
    {
      "cell_type": "code",
      "metadata": {
        "colab": {
          "base_uri": "https://localhost:8080/"
        },
        "id": "eoGpTLcyxG04",
        "outputId": "1e6d28ed-180f-4b35-9435-2c4cea6e33a9"
      },
      "source": [
        "dave.say_my_name()"
      ],
      "execution_count": 51,
      "outputs": [
        {
          "output_type": "stream",
          "name": "stdout",
          "text": [
            "dave\n"
          ]
        }
      ]
    },
    {
      "cell_type": "code",
      "metadata": {
        "colab": {
          "base_uri": "https://localhost:8080/",
          "height": 35
        },
        "id": "2YVTc-mCC9lc",
        "outputId": "8f679db7-5d85-46d7-8ded-33d3e8294f4d"
      },
      "source": [
        "dave.nationality"
      ],
      "execution_count": 52,
      "outputs": [
        {
          "output_type": "execute_result",
          "data": {
            "application/vnd.google.colaboratory.intrinsic+json": {
              "type": "string"
            },
            "text/plain": [
              "'American'"
            ]
          },
          "metadata": {},
          "execution_count": 52
        }
      ]
    },
    {
      "cell_type": "markdown",
      "metadata": {
        "id": "eL2hNbU8_p5E"
      },
      "source": [
        "## Define a company instance"
      ]
    },
    {
      "cell_type": "code",
      "metadata": {
        "id": "e8qIOzsZ7UKQ"
      },
      "source": [
        "company = Company('math', 2)"
      ],
      "execution_count": 53,
      "outputs": []
    },
    {
      "cell_type": "code",
      "metadata": {
        "id": "nS02PWSV65e_"
      },
      "source": [
        "emp1 = Employee('dave', 23)\n",
        "emp2 = Employee('davy', 27)\n",
        "emp3 = Employee('david', 25)"
      ],
      "execution_count": 54,
      "outputs": []
    },
    {
      "cell_type": "code",
      "metadata": {
        "colab": {
          "base_uri": "https://localhost:8080/"
        },
        "id": "1qOPLyMq7KU9",
        "outputId": "dc1f285d-f49a-481f-a9f9-0a0e8c3988cf"
      },
      "source": [
        "# 只能添加两个employee\n",
        "\n",
        "company.add_employee(emp1)\n",
        "company.add_employee(emp2)\n",
        "company.add_employee(emp3)"
      ],
      "execution_count": 55,
      "outputs": [
        {
          "output_type": "execute_result",
          "data": {
            "text/plain": [
              "False"
            ]
          },
          "metadata": {},
          "execution_count": 55
        }
      ]
    },
    {
      "cell_type": "code",
      "metadata": {
        "colab": {
          "base_uri": "https://localhost:8080/"
        },
        "id": "dnuM9iKC-3Ni",
        "outputId": "37222362-0c46-4b0a-e854-a8cc8d9fca8a"
      },
      "source": [
        "len(company.employees)"
      ],
      "execution_count": 56,
      "outputs": [
        {
          "output_type": "execute_result",
          "data": {
            "text/plain": [
              "2"
            ]
          },
          "metadata": {},
          "execution_count": 56
        }
      ]
    },
    {
      "cell_type": "code",
      "metadata": {
        "colab": {
          "base_uri": "https://localhost:8080/",
          "height": 35
        },
        "id": "UfTzsz6G74wu",
        "outputId": "ae3e7077-7c8c-458f-f411-d031b671f68c"
      },
      "source": [
        "company.employees[0].name"
      ],
      "execution_count": 57,
      "outputs": [
        {
          "output_type": "execute_result",
          "data": {
            "application/vnd.google.colaboratory.intrinsic+json": {
              "type": "string"
            },
            "text/plain": [
              "'dave'"
            ]
          },
          "metadata": {},
          "execution_count": 57
        }
      ]
    },
    {
      "cell_type": "code",
      "metadata": {
        "colab": {
          "base_uri": "https://localhost:8080/"
        },
        "id": "EZXAADy1-UpT",
        "outputId": "aa84aadd-f7ce-41b2-df20-42205ae063fb"
      },
      "source": [
        "company.get_average_age()"
      ],
      "execution_count": 58,
      "outputs": [
        {
          "output_type": "execute_result",
          "data": {
            "text/plain": [
              "25.0"
            ]
          },
          "metadata": {},
          "execution_count": 58
        }
      ]
    },
    {
      "cell_type": "code",
      "metadata": {
        "colab": {
          "base_uri": "https://localhost:8080/"
        },
        "id": "EiWIlZ-GAPuc",
        "outputId": "67e3f5c5-093d-4c01-cfb2-c609403e0a8d"
      },
      "source": [
        "company.show_employee()"
      ],
      "execution_count": 59,
      "outputs": [
        {
          "output_type": "execute_result",
          "data": {
            "text/plain": [
              "[('dave', 23), ('davy', 27)]"
            ]
          },
          "metadata": {},
          "execution_count": 59
        }
      ]
    },
    {
      "cell_type": "markdown",
      "metadata": {
        "id": "0YhYH47pFGbu"
      },
      "source": [
        "## Test Class Method\n",
        "\n",
        "不需要定义Employee的instance就能直接call"
      ]
    },
    {
      "cell_type": "code",
      "metadata": {
        "colab": {
          "base_uri": "https://localhost:8080/"
        },
        "id": "atp8QVh8FGC1",
        "outputId": "a2f11a26-df44-45bf-baee-7c8d77858ea1"
      },
      "source": [
        "p1 = Employee('tim', 21)\n",
        "p2 = Employee('dim', 22)\n",
        "\n",
        "print(Employee.number_of_ppl_())"
      ],
      "execution_count": 60,
      "outputs": [
        {
          "output_type": "stream",
          "name": "stdout",
          "text": [
            "6\n"
          ]
        }
      ]
    },
    {
      "cell_type": "markdown",
      "metadata": {
        "id": "li8hQ8Lr41aw"
      },
      "source": [
        "# Inheritance\n",
        "\n",
        "- PARENT is the class passing down attributes and methods = Employee\n",
        "- CHILD is the class inheriting all the methods and attrbutes = ASTRONAUT\n",
        "\n",
        "首先，他是一个Employee，然后才是一个ASTRONAUT，所以创建astronaut的时候可以继承很多的特质"
      ]
    },
    {
      "cell_type": "code",
      "metadata": {
        "id": "Qmq2gpni4-om"
      },
      "source": [
        "# create a child class\n",
        "\n",
        "class Astronaut(Employee):\n",
        "\n",
        "  # def init function\n",
        "  def __init__(self, name, age, mission_length):\n",
        "\n",
        "    # this is what gives us inheritance = SUPER METHOD, 继承了Employee所有的特质, 不过貌似你继承一部分就是可以的\n",
        "    super().__init__(name, age)    \n",
        "    # self.name = Employee.name\n",
        "    # self.age = Employee.age\n",
        "    # self.color = Employee.color\n",
        "\n",
        "    # PARENT没有的，就得自己从新定义\n",
        "    self.mission_length = mission_length\n",
        "    self.retire_age = 60\n",
        "\n",
        "  # method for  calculating age on reture\n",
        "  # 可以创建新method based on parent class的method\n",
        "  def age_on_return(self):\n",
        "    return self.project_age(years = int(self.mission_length/12))\n",
        "\n",
        "  def service_remain(self, current_year):\n",
        "    return self.retire_age - super().project_age(current_year)\n",
        "\n",
        "  # 如果是attribute直接用self.xx就好\n",
        "  def return_name(self):\n",
        "    return self.name\n"
      ],
      "execution_count": 16,
      "outputs": []
    },
    {
      "cell_type": "code",
      "metadata": {
        "id": "WDUPzrmg4-d_"
      },
      "source": [
        "# 还是得重新定义所有的attributes\n",
        "new_astronaut = Astronaut('nick', 99, 48)"
      ],
      "execution_count": 18,
      "outputs": []
    },
    {
      "cell_type": "code",
      "metadata": {
        "colab": {
          "base_uri": "https://localhost:8080/"
        },
        "id": "v2Fhz0Fhd-ha",
        "outputId": "747fc923-379e-464c-c444-0b77aee5b092"
      },
      "source": [
        "new_astronaut.age"
      ],
      "execution_count": 19,
      "outputs": [
        {
          "output_type": "execute_result",
          "data": {
            "text/plain": [
              "99"
            ]
          },
          "metadata": {},
          "execution_count": 19
        }
      ]
    },
    {
      "cell_type": "code",
      "metadata": {
        "colab": {
          "base_uri": "https://localhost:8080/"
        },
        "id": "5dSmEhrN4-TY",
        "outputId": "29341fb2-f729-433d-a61a-d5d7c5c8256a"
      },
      "source": [
        "# access parent like attribute\n",
        "new_astronaut.mission_length"
      ],
      "execution_count": 20,
      "outputs": [
        {
          "output_type": "execute_result",
          "data": {
            "text/plain": [
              "48"
            ]
          },
          "metadata": {},
          "execution_count": 20
        }
      ]
    },
    {
      "cell_type": "code",
      "metadata": {
        "colab": {
          "base_uri": "https://localhost:8080/"
        },
        "id": "gq5tFTbf4-LR",
        "outputId": "db497663-6693-4a11-a5b3-4263fbc71311"
      },
      "source": [
        "# access the methods\n",
        "new_astronaut.year_of_birth(2020)"
      ],
      "execution_count": 21,
      "outputs": [
        {
          "output_type": "execute_result",
          "data": {
            "text/plain": [
              "1921"
            ]
          },
          "metadata": {},
          "execution_count": 21
        }
      ]
    },
    {
      "cell_type": "code",
      "metadata": {
        "colab": {
          "base_uri": "https://localhost:8080/"
        },
        "id": "nZXILnU04-GE",
        "outputId": "201e9cac-3825-4c5b-c7e5-7245ddd8ee61"
      },
      "source": [
        "# run a method\n",
        "new_astronaut.age_on_return()"
      ],
      "execution_count": 22,
      "outputs": [
        {
          "output_type": "execute_result",
          "data": {
            "text/plain": [
              "-95"
            ]
          },
          "metadata": {},
          "execution_count": 22
        }
      ]
    },
    {
      "cell_type": "code",
      "metadata": {
        "colab": {
          "base_uri": "https://localhost:8080/"
        },
        "id": "yF7JTxcm491t",
        "outputId": "2af57aee-c9f3-44f3-f6f4-b26b14ed1b72"
      },
      "source": [
        "new_astronaut.service_remain(2020)"
      ],
      "execution_count": 23,
      "outputs": [
        {
          "output_type": "execute_result",
          "data": {
            "text/plain": [
              "-1861"
            ]
          },
          "metadata": {},
          "execution_count": 23
        }
      ]
    },
    {
      "cell_type": "code",
      "metadata": {
        "colab": {
          "base_uri": "https://localhost:8080/",
          "height": 35
        },
        "id": "AA5zhQHGkkb5",
        "outputId": "e8f006ca-babc-4c8c-f48f-ac57df0423c5"
      },
      "source": [
        " new_astronaut.return_name()"
      ],
      "execution_count": 24,
      "outputs": [
        {
          "output_type": "execute_result",
          "data": {
            "application/vnd.google.colaboratory.intrinsic+json": {
              "type": "string"
            },
            "text/plain": [
              "'nick'"
            ]
          },
          "metadata": {},
          "execution_count": 24
        }
      ]
    },
    {
      "cell_type": "markdown",
      "metadata": {
        "id": "uZhlCBGhhUbc"
      },
      "source": [
        "# Decorator\n",
        "\n",
        "貌似就是对function进行wrap，decorator本身是function，而这个function作用的对象也是function"
      ]
    },
    {
      "cell_type": "code",
      "metadata": {
        "id": "orA7dCBekkRR"
      },
      "source": [
        "def calc_exe_time(func):\n",
        "  def inner(*args, **kwargs):\n",
        "    import time\n",
        "    begin = time.time()\n",
        "    time.sleep(1)\n",
        "    func(*args, **kwargs)\n",
        "    end = time.time()\n",
        "    print('Total time taken:', end - begin)\n",
        "  return inner"
      ],
      "execution_count": 25,
      "outputs": []
    },
    {
      "cell_type": "code",
      "metadata": {
        "id": "T3UOy6qui2Wk"
      },
      "source": [
        "@calc_exe_time\n",
        "def exp(num):\n",
        "  import math\n",
        "  print(math.exp(num))"
      ],
      "execution_count": 26,
      "outputs": []
    },
    {
      "cell_type": "code",
      "metadata": {
        "colab": {
          "base_uri": "https://localhost:8080/"
        },
        "id": "tJf7V0l1i2SR",
        "outputId": "c4ac5e41-346f-43a8-c358-5cbf3b6f9882"
      },
      "source": [
        "exp(100)"
      ],
      "execution_count": 27,
      "outputs": [
        {
          "output_type": "stream",
          "name": "stdout",
          "text": [
            "2.6881171418161356e+43\n",
            "Total time taken: 1.00101900100708\n"
          ]
        }
      ]
    },
    {
      "cell_type": "code",
      "metadata": {
        "id": "GjSETN1gi1fF"
      },
      "source": [
        ""
      ],
      "execution_count": null,
      "outputs": []
    }
  ]
}