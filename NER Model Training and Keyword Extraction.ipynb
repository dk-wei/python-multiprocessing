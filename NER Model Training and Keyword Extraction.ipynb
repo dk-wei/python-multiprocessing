{
 "cells": [
  {
   "cell_type": "markdown",
   "metadata": {},
   "source": [
    "@origin script link: [Keywords Tagging](https://aiprd-jupyter.cisco.com/user/hdpiopsdp/notebooks/HadoopDir/ai_xray/scripts/ds/related_bugs/Keywords%20Tagging.ipynb#Tags-Generation) \n",
    "\n",
    "@ text annotation tool: [Doccano](https://github.com/doccano/doccano)"
   ]
  },
  {
   "cell_type": "code",
   "execution_count": 17,
   "metadata": {
    "ExecuteTime": {
     "end_time": "2021-04-23T21:20:18.980147Z",
     "start_time": "2021-04-23T21:20:18.977093Z"
    }
   },
   "outputs": [],
   "source": [
    "import pandas as pd\n",
    "import spacy\n",
    "import random\n",
    "import sys\n",
    "import json\n",
    "from spacy import displacy"
   ]
  },
  {
   "cell_type": "code",
   "execution_count": 18,
   "metadata": {
    "ExecuteTime": {
     "end_time": "2021-04-23T21:20:19.454586Z",
     "start_time": "2021-04-23T21:20:19.450286Z"
    }
   },
   "outputs": [
    {
     "data": {
      "text/plain": [
       "'/home/jupyter/Juliazhu'"
      ]
     },
     "execution_count": 18,
     "metadata": {},
     "output_type": "execute_result"
    }
   ],
   "source": [
    "pwd"
   ]
  },
  {
   "cell_type": "markdown",
   "metadata": {},
   "source": [
    "# Training the NER model"
   ]
  },
  {
   "cell_type": "code",
   "execution_count": 19,
   "metadata": {
    "ExecuteTime": {
     "end_time": "2021-04-23T21:20:20.511249Z",
     "start_time": "2021-04-23T21:20:20.504960Z"
    }
   },
   "outputs": [],
   "source": [
    "# JSON(Text-Labels) file exported from doccano\n",
    "# convert exported json file to format that spcay can digest\n",
    "\n",
    "#fo = open('/home/jupyter/sw_xray_analysis/confidence_survey/DATA/training_data_500.json', \"r\")\n",
    "fo = open('/home/jupyter/Juliazhu/DATA/input/survey_annotated_data.json', \"r\")\n",
    "lines = fo.readlines()\n",
    "\n",
    "TRAIN_DATA = []\n",
    "LABELS = ['Keywords', 'Products', 'Counterparty', 'Positive', 'Negative']\n",
    "\n",
    "for line in lines:\n",
    "\n",
    "    line = json.loads(line)\n",
    "    if \"labels\" in line:\n",
    "        line[\"entities\"] = line.pop(\"labels\")\n",
    "    else:\n",
    "        line[\"entities\"] = []\n",
    "\n",
    "    tmp_ents = []\n",
    "    for e in line[\"entities\"]:\n",
    "        \n",
    "        if e[2] in LABELS:\n",
    "            tmp_ents.append(tuple([e[0], e[1], e[2]]))\n",
    "        \n",
    "        line[\"entities\"] = tmp_ents\n",
    "\n",
    "    if (len(line[\"text\"]) > 5):\n",
    "        \n",
    "        #print(tuple([line[\"text\"],  {'entities':tmp_ents}]))\n",
    "        TRAIN_DATA.append(tuple([line[\"text\"],  {'entities':tmp_ents}]))\n"
   ]
  },
  {
   "cell_type": "code",
   "execution_count": 20,
   "metadata": {
    "ExecuteTime": {
     "end_time": "2021-04-23T21:20:21.043061Z",
     "start_time": "2021-04-23T21:20:21.038501Z"
    },
    "scrolled": true
   },
   "outputs": [
    {
     "data": {
      "text/plain": [
       "[('\"It is always a user issue.  It is  not easy to install, usually taking 6-8hrs, then you have to make it do what you want it do.  Meraki just works.  We need to make it \"\" just works\"\".  It is a heavy lift to make it truly production.     2.  Education of customers:  not enough  knowledge transfer to teach the customer to make it work.   3. commitment to get the existing features work and ready. 4. get the SE community.   Quality has improved, but we then usually break something.  \"',\n",
       "  {'entities': [(130, 136, 'Counterparty'),\n",
       "    (16, 26, 'Keywords'),\n",
       "    (195, 205, 'Keywords'),\n",
       "    (280, 298, 'Keywords'),\n",
       "    (343, 353, 'Keywords'),\n",
       "    (426, 433, 'Keywords'),\n",
       "    (36, 44, 'Negative'),\n",
       "    (468, 473, 'Negative'),\n",
       "    (438, 446, 'Positive'),\n",
       "    (243, 252, 'Keywords'),\n",
       "    (374, 382, 'Keywords')]})]"
      ]
     },
     "execution_count": 20,
     "metadata": {},
     "output_type": "execute_result"
    }
   ],
   "source": [
    "TRAIN_DATA[:1]"
   ]
  },
  {
   "cell_type": "code",
   "execution_count": 21,
   "metadata": {
    "ExecuteTime": {
     "end_time": "2021-04-23T21:20:30.077745Z",
     "start_time": "2021-04-23T21:20:21.678253Z"
    }
   },
   "outputs": [
    {
     "name": "stdout",
     "output_type": "stream",
     "text": [
      "Statring iteration 0\n",
      "{'ner': 876.9709626607478}\n",
      "Statring iteration 1\n",
      "{'ner': 409.2087106840477}\n",
      "Statring iteration 2\n",
      "{'ner': 323.4297826275687}\n",
      "Statring iteration 3\n",
      "{'ner': 392.0750346406912}\n",
      "Statring iteration 4\n",
      "{'ner': 372.49866494443194}\n"
     ]
    }
   ],
   "source": [
    "# TRAIN_DATA = [('update symmetric keys for c8k products + ASR sysDataList fix', {'entities': [(7, 21, \"cisco-term\"), (26, 29, \"cisco-term\"), (41, 44, \"cisco-term\"), (45, 56, \"cisco-term\")]}), \n",
    "#                 ('SLE :DLC not processed on BF case upgraded from CSL to SLE with PAK(CSLU mode)', {'entities': [(0, 3, \"cisco-term\"), (5, 8, \"cisco-term\"), (9, 22, \"verb\"), (26, 28, \"cisco-term\"), (48, 51, \"cisco-term\"), (55, 58, \"cisco-term\"), (64, 67, \"cisco-term\"), (68, 72, \"cisco-term\")]}), \n",
    "#                 ('SLE : CSL -SLE image test is failing as auto DLC is not initiating?', {'entities': [(0, 3, \"cisco-term\"), (6, 9, \"cisco-term\"), (11, 14, \"cisco-term\"), (15, 25, \"cisco-term\"), (29, 36, \"cisco-term\"), (45, 48, \"cisco-term\")]}), \n",
    "#                 ('need registry to skip feature request for CDNA in SLE', {'entities': [(5, 13, \"cisco-term\"), (22, 37, \"cisco-term\"), (17, 21, \"verb\"), (42, 46, \"cisco-term\"), (50, 53, \"cisco-term\")]}), \n",
    "#                 ('Curie Thallium crashed while SL registering after switching C-->A', {'entities': [(0, 5, \"cisco-term\"), (6, 14, \"cisco-term\"), (15, 22, \"verb\"), (29, 31, \"cisco-term\"), (32, 43, \"verb\")]}), \n",
    "#                 ('missed commit for CSCvq36980 on polaris_dev', {'entities': [(32, 43, \"cisco-term\"), (18, 28, \"cisco-term\")]}), \n",
    "#                 ('throughput is allowed even when license is not authorized in SLR mode for CSR?', {'entities': [(0, 10, \"cisco-term\"), (32, 39, \"cisco-term\"), (74, 77, \"cisco-term\"), (61, 64, \"cisco-term\")]}), \n",
    "#                 ('License Registration on the CSR fails intermittently', {'entities': [(0, 20, \"cisco-term\"), (28, 31, \"cisco-term\"), (32, 37, \"verb\")]}), \n",
    "#                 ('Curie/SDWAN: linux_iosd crash observed on sdwan image', {'entities': [(0, 5, \"cisco-term\"), (6, 11, \"cisco-term\"), (13, 23, \"cisco-term\"), (42, 53, \"cisco-term\"), (24, 29, \"verb\")]}), \n",
    "#                 ('Curie/SDWAN: Reva-NIM going out-of -service on sdwan image', {'entities': [(0, 5, \"cisco-term\"), (6, 11, \"cisco-term\"), (13, 21, \"cisco-term\"), (47, 58, \"cisco-term\"), (28, 43, \"verb\")]}), \n",
    "#                 ('Curie/SDWAN: device keep reloading if bootflash memory is lessthan 5GB', {'entities': [(0, 5, \"cisco-term\"), (6, 11, \"cisco-term\"), (25, 34, \"verb\"), (38, 47, \"cisco-term\")]}), \n",
    "#                 ('Curie/SDWAN: Prince module state showing as out-of-service on SDWAN image', {'entities': [(0, 5, \"cisco-term\"), (6, 11, \"cisco-term\"), (13, 19, \"cisco-term\"), (44, 58, \"verb\"), (62, 67, \"cisco-term\")]}), \n",
    "#                 ('Routing: SLR Exploitation Auth code can be used repeatedly after return code with factory-reset', {'entities': [(0, 7, \"cisco-term\"), (9, 12, \"cisco-term\"), (26, 35, \"cisco-term\"), (82, 95, \"cisco-term\")]})]\n",
    "\n",
    "\n",
    "\n",
    "# TRAIN_DATA = [('what is the price of polo?', {'entities': [(21, 25, 'PrdName')]}), \n",
    "#               ('what is the price of ball?', {'entities': [(21, 25, 'PrdName')]}), \n",
    "#               ('what is the price of jegging?', {'entities': [(21, 28, 'PrdName')]}), \n",
    "\n",
    "\n",
    "TRAINING_ITERATION = 5\n",
    "TRAINING_DATA = TRAIN_DATA\n",
    "\n",
    "def train_spacy(data,iterations):\n",
    "    TRAIN_DATA = data\n",
    "    nlp = spacy.blank('en')  # create blank Language class\n",
    "    #nlp = spacy.load('en')  # load Language class\n",
    "    # create the built-in pipeline components and add them to the pipeline\n",
    "    # nlp.create_pipe works for built-ins that are registered with spaCy\n",
    "    if 'ner' not in nlp.pipe_names:\n",
    "        ner = nlp.create_pipe('ner')\n",
    "        nlp.add_pipe(ner, last=True)\n",
    "       \n",
    "\n",
    "    # add labels\n",
    "    for _, annotations in TRAIN_DATA:\n",
    "         for ent in annotations.get('entities'):\n",
    "            ner.add_label(ent[2])\n",
    "\n",
    "    # get names of other pipes to disable them during training\n",
    "    other_pipes = [pipe for pipe in nlp.pipe_names if pipe != 'ner']\n",
    "    with nlp.disable_pipes(*other_pipes):  # only train NER\n",
    "        optimizer = nlp.begin_training()\n",
    "        for itn in range(iterations):\n",
    "            print(\"Statring iteration \" + str(itn))\n",
    "            random.shuffle(TRAIN_DATA)\n",
    "            losses = {}\n",
    "            for text, annotations in TRAIN_DATA:\n",
    "                nlp.update(\n",
    "                    [text],  # batch of texts\n",
    "                    [annotations],  # batch of annotations\n",
    "                    drop=0.2,  # dropout - make it harder to memorise data\n",
    "                    sgd=optimizer,  # callable to update weights\n",
    "                    losses=losses)\n",
    "            print(losses)\n",
    "    return nlp\n",
    "\n",
    "\n",
    "prdnlp = train_spacy(TRAINING_DATA, TRAINING_ITERATION)"
   ]
  },
  {
   "cell_type": "code",
   "execution_count": 23,
   "metadata": {
    "ExecuteTime": {
     "end_time": "2021-04-23T21:20:58.976313Z",
     "start_time": "2021-04-23T21:20:58.973761Z"
    }
   },
   "outputs": [],
   "source": [
    "# sasve the model to disk\n",
    "#prdnlp.to_disk('/home/jupyter/sw_xray_analysis/confidence_survey/DATA/output/cisco_survey_spacy_ner_model')"
   ]
  },
  {
   "cell_type": "code",
   "execution_count": null,
   "metadata": {},
   "outputs": [],
   "source": []
  },
  {
   "cell_type": "markdown",
   "metadata": {},
   "source": [
    "# Visualizing the keywords"
   ]
  },
  {
   "cell_type": "code",
   "execution_count": 24,
   "metadata": {
    "ExecuteTime": {
     "end_time": "2021-04-23T21:21:02.827138Z",
     "start_time": "2021-04-23T21:21:02.809633Z"
    }
   },
   "outputs": [
    {
     "name": "stdout",
     "output_type": "stream",
     "text": [
      "Google PS4 14 24 Keywords\n",
      "behind 42 48 Keywords\n",
      "dakan 50 55 Keywords\n",
      "Switch 88 94 Counterparty\n",
      "late push 115 124 Keywords\n",
      "Apple 144 149 Keywords\n",
      "Amazon 184 190 Counterparty\n",
      "Alexa software 193 207 Keywords\n",
      "on 220 222 Counterparty\n",
      "Echo 227 231 Keywords\n",
      "Dot 236 239 Counterparty\n",
      "clear leads 254 265 Keywords\n",
      "adoption 278 286 Keywords\n"
     ]
    }
   ],
   "source": [
    "text = \"But dakan wei Google PS4 is starting from behind. dakan wei still like playing Nintendo Switch, The company made a late push into hardware, and Apple’s Siri, available on iPhones, and Amazon’s Alexa software, which runs on its Echo and Dot devices, have clear leads in consumer adoption.\"\n",
    "\n",
    "doc = prdnlp(text)\n",
    "#print('Entities', [(ent.text, ent.label_) for ent in doc.ents])\n",
    "for ent in doc.ents:\n",
    "    print(ent.text, ent.start_char, ent.end_char, ent.label_)"
   ]
  },
  {
   "cell_type": "code",
   "execution_count": 31,
   "metadata": {
    "ExecuteTime": {
     "end_time": "2021-04-23T21:29:44.649518Z",
     "start_time": "2021-04-23T21:29:44.646838Z"
    }
   },
   "outputs": [],
   "source": [
    "#prdnlp = spacy.load(\"gs://swxray/DATA/Grace/DNAC/bert model/cisco_survey_spacy_ner_model/\")"
   ]
  },
  {
   "cell_type": "code",
   "execution_count": 27,
   "metadata": {
    "ExecuteTime": {
     "end_time": "2021-04-23T21:22:24.147153Z",
     "start_time": "2021-04-23T21:22:23.572220Z"
    }
   },
   "outputs": [],
   "source": [
    "prdnlp = spacy.load(\"/home/jupyter/sw_xray_analysis/general_cisco_keywords_extraction/DATA/cisco_survey_spacy_ner_model\")"
   ]
  },
  {
   "cell_type": "markdown",
   "metadata": {},
   "source": [
    "Input text data:"
   ]
  },
  {
   "cell_type": "code",
   "execution_count": 28,
   "metadata": {
    "ExecuteTime": {
     "end_time": "2021-04-23T21:22:25.807652Z",
     "start_time": "2021-04-23T21:22:25.804835Z"
    }
   },
   "outputs": [],
   "source": [
    "text = \"DNAC's primary value (for wireless)  need to be rock solid, don't need all the other less imporatn features to be good from the get-go.    2.  From the Cost and  use case,  the wireless assurance use case is the most imporant.   SDA for wired.      Wireless assuance needs to be solid.   Meraki workflow should be the example to follow.  Focus on a few things and make them simpler, rather than everything.     Because the products that do not work, our own reputation as specialists are also on the line.\"\n"
   ]
  },
  {
   "cell_type": "code",
   "execution_count": 29,
   "metadata": {
    "ExecuteTime": {
     "end_time": "2021-04-23T21:22:26.302154Z",
     "start_time": "2021-04-23T21:22:26.285918Z"
    }
   },
   "outputs": [
    {
     "data": {
      "text/html": [
       "<span class=\"tex2jax_ignore\"><div class=\"entities\" style=\"line-height: 2.5; direction: ltr\">\n",
       "<mark class=\"entity\" style=\"background: #35BCEC; padding: 0.45em 0.6em; margin: 0 0.25em; line-height: 1; border-radius: 0.35em;\">\n",
       "    DNAC\n",
       "    <span style=\"font-size: 0.8em; font-weight: bold; line-height: 1; border-radius: 0.35em; text-transform: uppercase; vertical-align: middle; margin-left: 0.5rem\">Products</span>\n",
       "</mark>\n",
       "'s primary value (for \n",
       "<mark class=\"entity\" style=\"background: #35BCEC; padding: 0.45em 0.6em; margin: 0 0.25em; line-height: 1; border-radius: 0.35em;\">\n",
       "    wireless\n",
       "    <span style=\"font-size: 0.8em; font-weight: bold; line-height: 1; border-radius: 0.35em; text-transform: uppercase; vertical-align: middle; margin-left: 0.5rem\">Products</span>\n",
       "</mark>\n",
       ")  need to be rock \n",
       "<mark class=\"entity\" style=\"background: #4BFA6B; padding: 0.45em 0.6em; margin: 0 0.25em; line-height: 1; border-radius: 0.35em;\">\n",
       "    solid\n",
       "    <span style=\"font-size: 0.8em; font-weight: bold; line-height: 1; border-radius: 0.35em; text-transform: uppercase; vertical-align: middle; margin-left: 0.5rem\">Positive</span>\n",
       "</mark>\n",
       ", don't need all the other less imporatn \n",
       "<mark class=\"entity\" style=\"background: #D8E0BB; padding: 0.45em 0.6em; margin: 0 0.25em; line-height: 1; border-radius: 0.35em;\">\n",
       "    features\n",
       "    <span style=\"font-size: 0.8em; font-weight: bold; line-height: 1; border-radius: 0.35em; text-transform: uppercase; vertical-align: middle; margin-left: 0.5rem\">Keywords</span>\n",
       "</mark>\n",
       " to be good from the get-go.    2.  From the \n",
       "<mark class=\"entity\" style=\"background: #D8E0BB; padding: 0.45em 0.6em; margin: 0 0.25em; line-height: 1; border-radius: 0.35em;\">\n",
       "    Cost\n",
       "    <span style=\"font-size: 0.8em; font-weight: bold; line-height: 1; border-radius: 0.35em; text-transform: uppercase; vertical-align: middle; margin-left: 0.5rem\">Keywords</span>\n",
       "</mark>\n",
       " and  \n",
       "<mark class=\"entity\" style=\"background: #D8E0BB; padding: 0.45em 0.6em; margin: 0 0.25em; line-height: 1; border-radius: 0.35em;\">\n",
       "    use case\n",
       "    <span style=\"font-size: 0.8em; font-weight: bold; line-height: 1; border-radius: 0.35em; text-transform: uppercase; vertical-align: middle; margin-left: 0.5rem\">Keywords</span>\n",
       "</mark>\n",
       ",  the \n",
       "<mark class=\"entity\" style=\"background: #35BCEC; padding: 0.45em 0.6em; margin: 0 0.25em; line-height: 1; border-radius: 0.35em;\">\n",
       "    wireless assurance\n",
       "    <span style=\"font-size: 0.8em; font-weight: bold; line-height: 1; border-radius: 0.35em; text-transform: uppercase; vertical-align: middle; margin-left: 0.5rem\">Products</span>\n",
       "</mark>\n",
       " \n",
       "<mark class=\"entity\" style=\"background: #D8E0BB; padding: 0.45em 0.6em; margin: 0 0.25em; line-height: 1; border-radius: 0.35em;\">\n",
       "    use case\n",
       "    <span style=\"font-size: 0.8em; font-weight: bold; line-height: 1; border-radius: 0.35em; text-transform: uppercase; vertical-align: middle; margin-left: 0.5rem\">Keywords</span>\n",
       "</mark>\n",
       " is the most imporant.   \n",
       "<mark class=\"entity\" style=\"background: #35BCEC; padding: 0.45em 0.6em; margin: 0 0.25em; line-height: 1; border-radius: 0.35em;\">\n",
       "    SDA\n",
       "    <span style=\"font-size: 0.8em; font-weight: bold; line-height: 1; border-radius: 0.35em; text-transform: uppercase; vertical-align: middle; margin-left: 0.5rem\">Products</span>\n",
       "</mark>\n",
       " for \n",
       "<mark class=\"entity\" style=\"background: #35BCEC; padding: 0.45em 0.6em; margin: 0 0.25em; line-height: 1; border-radius: 0.35em;\">\n",
       "    wired\n",
       "    <span style=\"font-size: 0.8em; font-weight: bold; line-height: 1; border-radius: 0.35em; text-transform: uppercase; vertical-align: middle; margin-left: 0.5rem\">Products</span>\n",
       "</mark>\n",
       ".      \n",
       "<mark class=\"entity\" style=\"background: #35BCEC; padding: 0.45em 0.6em; margin: 0 0.25em; line-height: 1; border-radius: 0.35em;\">\n",
       "    Wireless assuance\n",
       "    <span style=\"font-size: 0.8em; font-weight: bold; line-height: 1; border-radius: 0.35em; text-transform: uppercase; vertical-align: middle; margin-left: 0.5rem\">Products</span>\n",
       "</mark>\n",
       " needs to be \n",
       "<mark class=\"entity\" style=\"background: #4BFA6B; padding: 0.45em 0.6em; margin: 0 0.25em; line-height: 1; border-radius: 0.35em;\">\n",
       "    solid\n",
       "    <span style=\"font-size: 0.8em; font-weight: bold; line-height: 1; border-radius: 0.35em; text-transform: uppercase; vertical-align: middle; margin-left: 0.5rem\">Positive</span>\n",
       "</mark>\n",
       ".   \n",
       "<mark class=\"entity\" style=\"background: #F6D55C; padding: 0.45em 0.6em; margin: 0 0.25em; line-height: 1; border-radius: 0.35em;\">\n",
       "    Meraki\n",
       "    <span style=\"font-size: 0.8em; font-weight: bold; line-height: 1; border-radius: 0.35em; text-transform: uppercase; vertical-align: middle; margin-left: 0.5rem\">Counterparty</span>\n",
       "</mark>\n",
       " workflow should be the example to follow.  Focus on a few things and make them \n",
       "<mark class=\"entity\" style=\"background: #4BFA6B; padding: 0.45em 0.6em; margin: 0 0.25em; line-height: 1; border-radius: 0.35em;\">\n",
       "    simpler\n",
       "    <span style=\"font-size: 0.8em; font-weight: bold; line-height: 1; border-radius: 0.35em; text-transform: uppercase; vertical-align: middle; margin-left: 0.5rem\">Positive</span>\n",
       "</mark>\n",
       ", rather than everything.     Because the products that \n",
       "<mark class=\"entity\" style=\"background: #FA2A24; padding: 0.45em 0.6em; margin: 0 0.25em; line-height: 1; border-radius: 0.35em;\">\n",
       "    do not work\n",
       "    <span style=\"font-size: 0.8em; font-weight: bold; line-height: 1; border-radius: 0.35em; text-transform: uppercase; vertical-align: middle; margin-left: 0.5rem\">Negative</span>\n",
       "</mark>\n",
       ", our own reputation as specialists are also on the line.</div></span>"
      ],
      "text/plain": [
       "<IPython.core.display.HTML object>"
      ]
     },
     "metadata": {},
     "output_type": "display_data"
    }
   ],
   "source": [
    "# https://spacy.io/usage/visualizers#ent\n",
    "# colors = {\"KEYWORDS\": \"linear-gradient(90deg, #aa9cfc, #fc9ce7)\"}\n",
    "\n",
    "colors = {\"KEYWORDS\":     \"#D8E0BB\",\n",
    "         \"PRODUCTS\":      \"#35BCEC\",\n",
    "         \"COUNTERPARTY\":  \"#F6D55C\",\n",
    "         \"POSITIVE\":      \"#4BFA6B\",\n",
    "         \"NEGATIVE\":      \"#FA2A24\"}\n",
    "\n",
    "\n",
    "options = {\"colors\": colors}\n",
    "\n",
    "\n",
    "doc = prdnlp(text)\n",
    "displacy.render(doc, style=\"ent\", jupyter=True, options=options)\n"
   ]
  },
  {
   "cell_type": "code",
   "execution_count": null,
   "metadata": {},
   "outputs": [],
   "source": []
  },
  {
   "cell_type": "code",
   "execution_count": null,
   "metadata": {},
   "outputs": [],
   "source": []
  }
 ],
 "metadata": {
  "kernelspec": {
   "display_name": "Python 3",
   "language": "python",
   "name": "python3"
  },
  "language_info": {
   "codemirror_mode": {
    "name": "ipython",
    "version": 3
   },
   "file_extension": ".py",
   "mimetype": "text/x-python",
   "name": "python",
   "nbconvert_exporter": "python",
   "pygments_lexer": "ipython3",
   "version": "3.7.4"
  },
  "toc": {
   "base_numbering": 1,
   "nav_menu": {},
   "number_sections": true,
   "sideBar": true,
   "skip_h1_title": false,
   "title_cell": "Table of Contents",
   "title_sidebar": "Contents",
   "toc_cell": false,
   "toc_position": {},
   "toc_section_display": true,
   "toc_window_display": false
  }
 },
 "nbformat": 4,
 "nbformat_minor": 2
}
